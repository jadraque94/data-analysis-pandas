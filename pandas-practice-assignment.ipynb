{
 "cells": [
  {
   "cell_type": "markdown",
   "metadata": {},
   "source": [
    "# Assignment 3 - Pandas Data Analysis Practice\n",
    "\n",
    "*This assignment is a part of the course [\"Data Analysis with Python: Zero to Pandas\"](https://jovian.ai/learn/data-analysis-with-python-zero-to-pandas)*\n",
    "\n",
    "In this assignment, you'll get to practice some of the concepts and skills covered in this tutorial: https://jovian.ai/aakashns/python-pandas-data-analysis\n",
    "\n",
    "As you go through this notebook, you will find a **???** in certain places. To complete this assignment, you must replace all the **???** with appropriate values, expressions or statements to ensure that the notebook runs properly end-to-end. \n",
    "\n",
    "Some things to keep in mind:\n",
    "\n",
    "* Make sure to run all the code cells, otherwise you may get errors like `NameError` for undefined variables.\n",
    "* Do not change variable names, delete cells or disturb other existing code. It may cause problems during evaluation.\n",
    "* In some cases, you may need to add some code cells or new statements before or after the line of code containing the **???**. \n",
    "* Since you'll be using a temporary online service for code execution, save your work by running `jovian.commit` at regular intervals.\n",
    "* Questions marked **(Optional)** will not be considered for evaluation, and can be skipped. They are for your learning.\n",
    "\n",
    "You can make submissions on this page: https://jovian.ai/learn/data-analysis-with-python-zero-to-pandas/assignment/assignment-3-pandas-practice\n",
    "\n",
    "If you are stuck, you can ask for help on the community forum: https://jovian.ai/forum/t/assignment-3-pandas-practice/11225/3. You can get help with errors or ask for hints, describe your approach in simple words, link to documentation, but **please don't ask for or share the full working answer code** on the forum.\n",
    "\n",
    "\n",
    "## How to run the code and save your work\n",
    "\n",
    "The recommended way to run this notebook is to click the \"Run\" button at the top of this page, and select \"Run on Binder\". This will run the notebook on [mybinder.org](https://mybinder.org), a free online service for running Jupyter notebooks. \n",
    "\n",
    "Before starting the assignment, let's save a snapshot of the assignment to your Jovian.ai profile, so that you can access it later, and continue your work."
   ]
  },
  {
   "cell_type": "code",
   "execution_count": 1,
   "metadata": {},
   "outputs": [],
   "source": [
    "import jovian"
   ]
  },
  {
   "cell_type": "code",
   "execution_count": 2,
   "metadata": {},
   "outputs": [
    {
     "data": {
      "application/javascript": [
       "window.require && require([\"base/js/namespace\"],function(Jupyter){Jupyter.notebook.save_checkpoint()})"
      ],
      "text/plain": [
       "<IPython.core.display.Javascript object>"
      ]
     },
     "metadata": {},
     "output_type": "display_data"
    },
    {
     "name": "stdout",
     "output_type": "stream",
     "text": [
      "[jovian] Updating notebook \"jadraque94/pandas-practice-assignment\" on https://jovian.ai/\u001b[0m\n",
      "[jovian] Committed successfully! https://jovian.ai/jadraque94/pandas-practice-assignment\u001b[0m\n"
     ]
    },
    {
     "data": {
      "text/plain": [
       "'https://jovian.ai/jadraque94/pandas-practice-assignment'"
      ]
     },
     "execution_count": 2,
     "metadata": {},
     "output_type": "execute_result"
    }
   ],
   "source": [
    "jovian.commit(project='pandas-practice-assignment', environment=None)"
   ]
  },
  {
   "cell_type": "code",
   "execution_count": 3,
   "metadata": {},
   "outputs": [
    {
     "name": "stdout",
     "output_type": "stream",
     "text": [
      "Requirement already satisfied: pandas in c:\\users\\pc du chadiboo\\anaconda3\\lib\\site-packages (1.4.0)\n",
      "Requirement already satisfied: pytz>=2020.1 in c:\\users\\pc du chadiboo\\anaconda3\\lib\\site-packages (from pandas) (2021.3)\n",
      "Requirement already satisfied: python-dateutil>=2.8.1 in c:\\users\\pc du chadiboo\\anaconda3\\lib\\site-packages (from pandas) (2.8.2)\n",
      "Requirement already satisfied: numpy>=1.18.5 in c:\\users\\pc du chadiboo\\anaconda3\\lib\\site-packages (from pandas) (1.22.1)\n",
      "Requirement already satisfied: six>=1.5 in c:\\users\\pc du chadiboo\\anaconda3\\lib\\site-packages (from python-dateutil>=2.8.1->pandas) (1.16.0)\n"
     ]
    }
   ],
   "source": [
    "# Run the next line to install Pandas\n",
    "!pip install pandas --upgrade"
   ]
  },
  {
   "cell_type": "code",
   "execution_count": 4,
   "metadata": {},
   "outputs": [],
   "source": [
    "import pandas as pd"
   ]
  },
  {
   "cell_type": "markdown",
   "metadata": {},
   "source": [
    "In this assignment, we're going to analyze an operate on data from a CSV file. Let's begin by downloading the CSV file."
   ]
  },
  {
   "cell_type": "code",
   "execution_count": 5,
   "metadata": {},
   "outputs": [
    {
     "data": {
      "text/plain": [
       "('countries.csv', <http.client.HTTPMessage at 0x20dbd370fd0>)"
      ]
     },
     "execution_count": 5,
     "metadata": {},
     "output_type": "execute_result"
    }
   ],
   "source": [
    "from urllib.request import urlretrieve\n",
    "\n",
    "urlretrieve('https://gist.githubusercontent.com/aakashns/28b2e504b3350afd9bdb157893f9725c/raw/994b65665757f4f8887db1c85986a897abb23d84/countries.csv', \n",
    "            'countries.csv')"
   ]
  },
  {
   "cell_type": "markdown",
   "metadata": {},
   "source": [
    "Let's load the data from the CSV file into a Pandas data frame."
   ]
  },
  {
   "cell_type": "code",
   "execution_count": 6,
   "metadata": {},
   "outputs": [],
   "source": [
    "countries_df = pd.read_csv('countries.csv')"
   ]
  },
  {
   "cell_type": "code",
   "execution_count": 7,
   "metadata": {},
   "outputs": [
    {
     "data": {
      "text/html": [
       "<div>\n",
       "<style scoped>\n",
       "    .dataframe tbody tr th:only-of-type {\n",
       "        vertical-align: middle;\n",
       "    }\n",
       "\n",
       "    .dataframe tbody tr th {\n",
       "        vertical-align: top;\n",
       "    }\n",
       "\n",
       "    .dataframe thead th {\n",
       "        text-align: right;\n",
       "    }\n",
       "</style>\n",
       "<table border=\"1\" class=\"dataframe\">\n",
       "  <thead>\n",
       "    <tr style=\"text-align: right;\">\n",
       "      <th></th>\n",
       "      <th>location</th>\n",
       "      <th>continent</th>\n",
       "      <th>population</th>\n",
       "      <th>life_expectancy</th>\n",
       "      <th>hospital_beds_per_thousand</th>\n",
       "      <th>gdp_per_capita</th>\n",
       "    </tr>\n",
       "  </thead>\n",
       "  <tbody>\n",
       "    <tr>\n",
       "      <th>0</th>\n",
       "      <td>Afghanistan</td>\n",
       "      <td>Asia</td>\n",
       "      <td>38928341.0</td>\n",
       "      <td>64.83</td>\n",
       "      <td>0.50</td>\n",
       "      <td>1803.987</td>\n",
       "    </tr>\n",
       "    <tr>\n",
       "      <th>1</th>\n",
       "      <td>Albania</td>\n",
       "      <td>Europe</td>\n",
       "      <td>2877800.0</td>\n",
       "      <td>78.57</td>\n",
       "      <td>2.89</td>\n",
       "      <td>11803.431</td>\n",
       "    </tr>\n",
       "    <tr>\n",
       "      <th>2</th>\n",
       "      <td>Algeria</td>\n",
       "      <td>Africa</td>\n",
       "      <td>43851043.0</td>\n",
       "      <td>76.88</td>\n",
       "      <td>1.90</td>\n",
       "      <td>13913.839</td>\n",
       "    </tr>\n",
       "    <tr>\n",
       "      <th>3</th>\n",
       "      <td>Andorra</td>\n",
       "      <td>Europe</td>\n",
       "      <td>77265.0</td>\n",
       "      <td>83.73</td>\n",
       "      <td>NaN</td>\n",
       "      <td>NaN</td>\n",
       "    </tr>\n",
       "    <tr>\n",
       "      <th>4</th>\n",
       "      <td>Angola</td>\n",
       "      <td>Africa</td>\n",
       "      <td>32866268.0</td>\n",
       "      <td>61.15</td>\n",
       "      <td>NaN</td>\n",
       "      <td>5819.495</td>\n",
       "    </tr>\n",
       "    <tr>\n",
       "      <th>...</th>\n",
       "      <td>...</td>\n",
       "      <td>...</td>\n",
       "      <td>...</td>\n",
       "      <td>...</td>\n",
       "      <td>...</td>\n",
       "      <td>...</td>\n",
       "    </tr>\n",
       "    <tr>\n",
       "      <th>205</th>\n",
       "      <td>Vietnam</td>\n",
       "      <td>Asia</td>\n",
       "      <td>97338583.0</td>\n",
       "      <td>75.40</td>\n",
       "      <td>2.60</td>\n",
       "      <td>6171.884</td>\n",
       "    </tr>\n",
       "    <tr>\n",
       "      <th>206</th>\n",
       "      <td>Western Sahara</td>\n",
       "      <td>Africa</td>\n",
       "      <td>597330.0</td>\n",
       "      <td>70.26</td>\n",
       "      <td>NaN</td>\n",
       "      <td>NaN</td>\n",
       "    </tr>\n",
       "    <tr>\n",
       "      <th>207</th>\n",
       "      <td>Yemen</td>\n",
       "      <td>Asia</td>\n",
       "      <td>29825968.0</td>\n",
       "      <td>66.12</td>\n",
       "      <td>0.70</td>\n",
       "      <td>1479.147</td>\n",
       "    </tr>\n",
       "    <tr>\n",
       "      <th>208</th>\n",
       "      <td>Zambia</td>\n",
       "      <td>Africa</td>\n",
       "      <td>18383956.0</td>\n",
       "      <td>63.89</td>\n",
       "      <td>2.00</td>\n",
       "      <td>3689.251</td>\n",
       "    </tr>\n",
       "    <tr>\n",
       "      <th>209</th>\n",
       "      <td>Zimbabwe</td>\n",
       "      <td>Africa</td>\n",
       "      <td>14862927.0</td>\n",
       "      <td>61.49</td>\n",
       "      <td>1.70</td>\n",
       "      <td>1899.775</td>\n",
       "    </tr>\n",
       "  </tbody>\n",
       "</table>\n",
       "<p>210 rows × 6 columns</p>\n",
       "</div>"
      ],
      "text/plain": [
       "           location continent  population  life_expectancy  \\\n",
       "0       Afghanistan      Asia  38928341.0            64.83   \n",
       "1           Albania    Europe   2877800.0            78.57   \n",
       "2           Algeria    Africa  43851043.0            76.88   \n",
       "3           Andorra    Europe     77265.0            83.73   \n",
       "4            Angola    Africa  32866268.0            61.15   \n",
       "..              ...       ...         ...              ...   \n",
       "205         Vietnam      Asia  97338583.0            75.40   \n",
       "206  Western Sahara    Africa    597330.0            70.26   \n",
       "207           Yemen      Asia  29825968.0            66.12   \n",
       "208          Zambia    Africa  18383956.0            63.89   \n",
       "209        Zimbabwe    Africa  14862927.0            61.49   \n",
       "\n",
       "     hospital_beds_per_thousand  gdp_per_capita  \n",
       "0                          0.50        1803.987  \n",
       "1                          2.89       11803.431  \n",
       "2                          1.90       13913.839  \n",
       "3                           NaN             NaN  \n",
       "4                           NaN        5819.495  \n",
       "..                          ...             ...  \n",
       "205                        2.60        6171.884  \n",
       "206                         NaN             NaN  \n",
       "207                        0.70        1479.147  \n",
       "208                        2.00        3689.251  \n",
       "209                        1.70        1899.775  \n",
       "\n",
       "[210 rows x 6 columns]"
      ]
     },
     "execution_count": 7,
     "metadata": {},
     "output_type": "execute_result"
    }
   ],
   "source": [
    "countries_df"
   ]
  },
  {
   "cell_type": "markdown",
   "metadata": {},
   "source": [
    "**Q1: How many countries does the dataframe contain?**\n",
    "\n",
    "Hint: Use the `.shape` method."
   ]
  },
  {
   "cell_type": "code",
   "execution_count": 8,
   "metadata": {},
   "outputs": [
    {
     "name": "stdout",
     "output_type": "stream",
     "text": [
      "210\n"
     ]
    }
   ],
   "source": [
    "num_countries = countries_df['location'].shape[0]\n",
    "print(num_countries)"
   ]
  },
  {
   "cell_type": "code",
   "execution_count": 9,
   "metadata": {},
   "outputs": [
    {
     "name": "stdout",
     "output_type": "stream",
     "text": [
      "There are 210 countries in the dataset\n"
     ]
    }
   ],
   "source": [
    "print('There are {} countries in the dataset'.format(num_countries))"
   ]
  },
  {
   "cell_type": "code",
   "execution_count": 10,
   "metadata": {},
   "outputs": [
    {
     "data": {
      "application/javascript": [
       "window.require && require([\"base/js/namespace\"],function(Jupyter){Jupyter.notebook.save_checkpoint()})"
      ],
      "text/plain": [
       "<IPython.core.display.Javascript object>"
      ]
     },
     "metadata": {},
     "output_type": "display_data"
    },
    {
     "name": "stdout",
     "output_type": "stream",
     "text": [
      "[jovian] Updating notebook \"jadraque94/pandas-practice-assignment\" on https://jovian.ai/\u001b[0m\n",
      "[jovian] Committed successfully! https://jovian.ai/jadraque94/pandas-practice-assignment\u001b[0m\n"
     ]
    },
    {
     "data": {
      "text/plain": [
       "'https://jovian.ai/jadraque94/pandas-practice-assignment'"
      ]
     },
     "execution_count": 10,
     "metadata": {},
     "output_type": "execute_result"
    }
   ],
   "source": [
    "jovian.commit(project='pandas-practice-assignment', environment=None)"
   ]
  },
  {
   "cell_type": "markdown",
   "metadata": {},
   "source": [
    "**Q2: Retrieve a list of continents from the dataframe?**\n",
    "\n",
    "*Hint: Use the `.unique` method of a series.*"
   ]
  },
  {
   "cell_type": "code",
   "execution_count": 11,
   "metadata": {},
   "outputs": [],
   "source": [
    "continents = countries_df['continent'].unique()"
   ]
  },
  {
   "cell_type": "code",
   "execution_count": 12,
   "metadata": {},
   "outputs": [
    {
     "data": {
      "text/plain": [
       "array(['Asia', 'Europe', 'Africa', 'North America', 'South America',\n",
       "       'Oceania'], dtype=object)"
      ]
     },
     "execution_count": 12,
     "metadata": {},
     "output_type": "execute_result"
    }
   ],
   "source": [
    "continents"
   ]
  },
  {
   "cell_type": "code",
   "execution_count": 13,
   "metadata": {},
   "outputs": [
    {
     "data": {
      "application/javascript": [
       "window.require && require([\"base/js/namespace\"],function(Jupyter){Jupyter.notebook.save_checkpoint()})"
      ],
      "text/plain": [
       "<IPython.core.display.Javascript object>"
      ]
     },
     "metadata": {},
     "output_type": "display_data"
    },
    {
     "name": "stdout",
     "output_type": "stream",
     "text": [
      "[jovian] Updating notebook \"jadraque94/pandas-practice-assignment\" on https://jovian.ai/\u001b[0m\n",
      "[jovian] Committed successfully! https://jovian.ai/jadraque94/pandas-practice-assignment\u001b[0m\n"
     ]
    },
    {
     "data": {
      "text/plain": [
       "'https://jovian.ai/jadraque94/pandas-practice-assignment'"
      ]
     },
     "execution_count": 13,
     "metadata": {},
     "output_type": "execute_result"
    }
   ],
   "source": [
    "jovian.commit(project='pandas-practice-assignment', environment=None)"
   ]
  },
  {
   "cell_type": "markdown",
   "metadata": {},
   "source": [
    "**Q3: What is the total population of all the countries listed in this dataset?**"
   ]
  },
  {
   "cell_type": "code",
   "execution_count": 14,
   "metadata": {},
   "outputs": [],
   "source": [
    "total_population = countries_df['population'].sum()"
   ]
  },
  {
   "cell_type": "code",
   "execution_count": 15,
   "metadata": {},
   "outputs": [
    {
     "name": "stdout",
     "output_type": "stream",
     "text": [
      "The total population is 7757980095.\n"
     ]
    }
   ],
   "source": [
    "print('The total population is {}.'.format(int(total_population)))"
   ]
  },
  {
   "cell_type": "code",
   "execution_count": 16,
   "metadata": {},
   "outputs": [
    {
     "data": {
      "application/javascript": [
       "window.require && require([\"base/js/namespace\"],function(Jupyter){Jupyter.notebook.save_checkpoint()})"
      ],
      "text/plain": [
       "<IPython.core.display.Javascript object>"
      ]
     },
     "metadata": {},
     "output_type": "display_data"
    },
    {
     "name": "stdout",
     "output_type": "stream",
     "text": [
      "[jovian] Updating notebook \"jadraque94/pandas-practice-assignment\" on https://jovian.ai/\u001b[0m\n",
      "[jovian] Committed successfully! https://jovian.ai/jadraque94/pandas-practice-assignment\u001b[0m\n"
     ]
    },
    {
     "data": {
      "text/plain": [
       "'https://jovian.ai/jadraque94/pandas-practice-assignment'"
      ]
     },
     "execution_count": 16,
     "metadata": {},
     "output_type": "execute_result"
    }
   ],
   "source": [
    "jovian.commit(project='pandas-practice-assignment', environment=None)"
   ]
  },
  {
   "cell_type": "markdown",
   "metadata": {},
   "source": [
    "**Q: (Optional) What is the overall life expectancy across in the world?**\n",
    "\n",
    "*Hint: You'll need to take a weighted average of life expectancy using populations as weights.*"
   ]
  },
  {
   "cell_type": "code",
   "execution_count": 17,
   "metadata": {},
   "outputs": [
    {
     "name": "stdout",
     "output_type": "stream",
     "text": [
      "73.52985507246376\n"
     ]
    }
   ],
   "source": [
    "a=countries_df['life_expectancy'].mean()\n",
    "print(a)"
   ]
  },
  {
   "cell_type": "code",
   "execution_count": 18,
   "metadata": {},
   "outputs": [
    {
     "data": {
      "application/javascript": [
       "window.require && require([\"base/js/namespace\"],function(Jupyter){Jupyter.notebook.save_checkpoint()})"
      ],
      "text/plain": [
       "<IPython.core.display.Javascript object>"
      ]
     },
     "metadata": {},
     "output_type": "display_data"
    },
    {
     "name": "stdout",
     "output_type": "stream",
     "text": [
      "[jovian] Updating notebook \"jadraque94/pandas-practice-assignment\" on https://jovian.ai/\u001b[0m\n",
      "[jovian] Committed successfully! https://jovian.ai/jadraque94/pandas-practice-assignment\u001b[0m\n"
     ]
    },
    {
     "data": {
      "text/plain": [
       "'https://jovian.ai/jadraque94/pandas-practice-assignment'"
      ]
     },
     "execution_count": 18,
     "metadata": {},
     "output_type": "execute_result"
    }
   ],
   "source": [
    "jovian.commit(project='pandas-practice-assignment', environment=None)"
   ]
  },
  {
   "cell_type": "markdown",
   "metadata": {},
   "source": [
    "**Q4: Create a dataframe containing 10 countries with the highest population.**\n",
    "\n",
    "*Hint: Chain the `sort_values` and `head` methods.*"
   ]
  },
  {
   "cell_type": "code",
   "execution_count": 22,
   "metadata": {},
   "outputs": [
    {
     "data": {
      "text/plain": [
       "125    1.289328e+08\n",
       "157    1.459345e+08\n",
       "15     1.646894e+08\n",
       "141    2.061396e+08\n",
       "27     2.125594e+08\n",
       "145    2.208923e+08\n",
       "91     2.735236e+08\n",
       "199    3.310026e+08\n",
       "90     1.380004e+09\n",
       "41     1.439324e+09\n",
       "Name: population, dtype: float64"
      ]
     },
     "execution_count": 22,
     "metadata": {},
     "output_type": "execute_result"
    }
   ],
   "source": [
    "most_populous_df = countries_df['population'].sort_values()\n",
    "most_populous_df.tail(10)"
   ]
  },
  {
   "cell_type": "code",
   "execution_count": 35,
   "metadata": {},
   "outputs": [
    {
     "data": {
      "text/html": [
       "<div>\n",
       "<style scoped>\n",
       "    .dataframe tbody tr th:only-of-type {\n",
       "        vertical-align: middle;\n",
       "    }\n",
       "\n",
       "    .dataframe tbody tr th {\n",
       "        vertical-align: top;\n",
       "    }\n",
       "\n",
       "    .dataframe thead th {\n",
       "        text-align: right;\n",
       "    }\n",
       "</style>\n",
       "<table border=\"1\" class=\"dataframe\">\n",
       "  <thead>\n",
       "    <tr style=\"text-align: right;\">\n",
       "      <th></th>\n",
       "      <th>location</th>\n",
       "      <th>continent</th>\n",
       "      <th>population</th>\n",
       "      <th>life_expectancy</th>\n",
       "      <th>hospital_beds_per_thousand</th>\n",
       "      <th>gdp_per_capita</th>\n",
       "    </tr>\n",
       "  </thead>\n",
       "  <tbody>\n",
       "    <tr>\n",
       "      <th>41</th>\n",
       "      <td>China</td>\n",
       "      <td>Asia</td>\n",
       "      <td>1.439324e+09</td>\n",
       "      <td>76.91</td>\n",
       "      <td>4.34</td>\n",
       "      <td>15308.712</td>\n",
       "    </tr>\n",
       "    <tr>\n",
       "      <th>90</th>\n",
       "      <td>India</td>\n",
       "      <td>Asia</td>\n",
       "      <td>1.380004e+09</td>\n",
       "      <td>69.66</td>\n",
       "      <td>0.53</td>\n",
       "      <td>6426.674</td>\n",
       "    </tr>\n",
       "    <tr>\n",
       "      <th>199</th>\n",
       "      <td>United States</td>\n",
       "      <td>North America</td>\n",
       "      <td>3.310026e+08</td>\n",
       "      <td>78.86</td>\n",
       "      <td>2.77</td>\n",
       "      <td>54225.446</td>\n",
       "    </tr>\n",
       "    <tr>\n",
       "      <th>91</th>\n",
       "      <td>Indonesia</td>\n",
       "      <td>Asia</td>\n",
       "      <td>2.735236e+08</td>\n",
       "      <td>71.72</td>\n",
       "      <td>1.04</td>\n",
       "      <td>11188.744</td>\n",
       "    </tr>\n",
       "    <tr>\n",
       "      <th>145</th>\n",
       "      <td>Pakistan</td>\n",
       "      <td>Asia</td>\n",
       "      <td>2.208923e+08</td>\n",
       "      <td>67.27</td>\n",
       "      <td>0.60</td>\n",
       "      <td>5034.708</td>\n",
       "    </tr>\n",
       "    <tr>\n",
       "      <th>27</th>\n",
       "      <td>Brazil</td>\n",
       "      <td>South America</td>\n",
       "      <td>2.125594e+08</td>\n",
       "      <td>75.88</td>\n",
       "      <td>2.20</td>\n",
       "      <td>14103.452</td>\n",
       "    </tr>\n",
       "    <tr>\n",
       "      <th>141</th>\n",
       "      <td>Nigeria</td>\n",
       "      <td>Africa</td>\n",
       "      <td>2.061396e+08</td>\n",
       "      <td>54.69</td>\n",
       "      <td>NaN</td>\n",
       "      <td>5338.454</td>\n",
       "    </tr>\n",
       "    <tr>\n",
       "      <th>15</th>\n",
       "      <td>Bangladesh</td>\n",
       "      <td>Asia</td>\n",
       "      <td>1.646894e+08</td>\n",
       "      <td>72.59</td>\n",
       "      <td>0.80</td>\n",
       "      <td>3523.984</td>\n",
       "    </tr>\n",
       "    <tr>\n",
       "      <th>157</th>\n",
       "      <td>Russia</td>\n",
       "      <td>Europe</td>\n",
       "      <td>1.459345e+08</td>\n",
       "      <td>72.58</td>\n",
       "      <td>8.05</td>\n",
       "      <td>24765.954</td>\n",
       "    </tr>\n",
       "    <tr>\n",
       "      <th>125</th>\n",
       "      <td>Mexico</td>\n",
       "      <td>North America</td>\n",
       "      <td>1.289328e+08</td>\n",
       "      <td>75.05</td>\n",
       "      <td>1.38</td>\n",
       "      <td>17336.469</td>\n",
       "    </tr>\n",
       "  </tbody>\n",
       "</table>\n",
       "</div>"
      ],
      "text/plain": [
       "          location      continent    population  life_expectancy  \\\n",
       "41           China           Asia  1.439324e+09            76.91   \n",
       "90           India           Asia  1.380004e+09            69.66   \n",
       "199  United States  North America  3.310026e+08            78.86   \n",
       "91       Indonesia           Asia  2.735236e+08            71.72   \n",
       "145       Pakistan           Asia  2.208923e+08            67.27   \n",
       "27          Brazil  South America  2.125594e+08            75.88   \n",
       "141        Nigeria         Africa  2.061396e+08            54.69   \n",
       "15      Bangladesh           Asia  1.646894e+08            72.59   \n",
       "157         Russia         Europe  1.459345e+08            72.58   \n",
       "125         Mexico  North America  1.289328e+08            75.05   \n",
       "\n",
       "     hospital_beds_per_thousand  gdp_per_capita  \n",
       "41                         4.34       15308.712  \n",
       "90                         0.53        6426.674  \n",
       "199                        2.77       54225.446  \n",
       "91                         1.04       11188.744  \n",
       "145                        0.60        5034.708  \n",
       "27                         2.20       14103.452  \n",
       "141                         NaN        5338.454  \n",
       "15                         0.80        3523.984  \n",
       "157                        8.05       24765.954  \n",
       "125                        1.38       17336.469  "
      ]
     },
     "execution_count": 35,
     "metadata": {},
     "output_type": "execute_result"
    }
   ],
   "source": [
    "most_populous_df=countries_df[countries_df.population >1.288e+08]\n",
    "most_populous_df.sort_values('population', ascending=False)"
   ]
  },
  {
   "cell_type": "code",
   "execution_count": 36,
   "metadata": {},
   "outputs": [
    {
     "data": {
      "application/javascript": [
       "window.require && require([\"base/js/namespace\"],function(Jupyter){Jupyter.notebook.save_checkpoint()})"
      ],
      "text/plain": [
       "<IPython.core.display.Javascript object>"
      ]
     },
     "metadata": {},
     "output_type": "display_data"
    },
    {
     "name": "stdout",
     "output_type": "stream",
     "text": [
      "[jovian] Updating notebook \"jadraque94/pandas-practice-assignment\" on https://jovian.ai/\u001b[0m\n",
      "[jovian] Committed successfully! https://jovian.ai/jadraque94/pandas-practice-assignment\u001b[0m\n"
     ]
    },
    {
     "data": {
      "text/plain": [
       "'https://jovian.ai/jadraque94/pandas-practice-assignment'"
      ]
     },
     "execution_count": 36,
     "metadata": {},
     "output_type": "execute_result"
    }
   ],
   "source": [
    "jovian.commit(project='pandas-practice-assignment', environment=None)"
   ]
  },
  {
   "cell_type": "markdown",
   "metadata": {},
   "source": [
    "**Q5: Add a new column in `countries_df` to record the overall GDP per country (product of population & per capita GDP).**\n",
    "\n"
   ]
  },
  {
   "cell_type": "code",
   "execution_count": 39,
   "metadata": {},
   "outputs": [],
   "source": [
    "countries_df['gdp'] = countries_df.population* countries_df.gdp_per_capita"
   ]
  },
  {
   "cell_type": "code",
   "execution_count": 40,
   "metadata": {},
   "outputs": [
    {
     "data": {
      "text/html": [
       "<div>\n",
       "<style scoped>\n",
       "    .dataframe tbody tr th:only-of-type {\n",
       "        vertical-align: middle;\n",
       "    }\n",
       "\n",
       "    .dataframe tbody tr th {\n",
       "        vertical-align: top;\n",
       "    }\n",
       "\n",
       "    .dataframe thead th {\n",
       "        text-align: right;\n",
       "    }\n",
       "</style>\n",
       "<table border=\"1\" class=\"dataframe\">\n",
       "  <thead>\n",
       "    <tr style=\"text-align: right;\">\n",
       "      <th></th>\n",
       "      <th>location</th>\n",
       "      <th>continent</th>\n",
       "      <th>population</th>\n",
       "      <th>life_expectancy</th>\n",
       "      <th>hospital_beds_per_thousand</th>\n",
       "      <th>gdp_per_capita</th>\n",
       "      <th>gdp</th>\n",
       "    </tr>\n",
       "  </thead>\n",
       "  <tbody>\n",
       "    <tr>\n",
       "      <th>0</th>\n",
       "      <td>Afghanistan</td>\n",
       "      <td>Asia</td>\n",
       "      <td>38928341.0</td>\n",
       "      <td>64.83</td>\n",
       "      <td>0.50</td>\n",
       "      <td>1803.987</td>\n",
       "      <td>7.022622e+10</td>\n",
       "    </tr>\n",
       "    <tr>\n",
       "      <th>1</th>\n",
       "      <td>Albania</td>\n",
       "      <td>Europe</td>\n",
       "      <td>2877800.0</td>\n",
       "      <td>78.57</td>\n",
       "      <td>2.89</td>\n",
       "      <td>11803.431</td>\n",
       "      <td>3.396791e+10</td>\n",
       "    </tr>\n",
       "    <tr>\n",
       "      <th>2</th>\n",
       "      <td>Algeria</td>\n",
       "      <td>Africa</td>\n",
       "      <td>43851043.0</td>\n",
       "      <td>76.88</td>\n",
       "      <td>1.90</td>\n",
       "      <td>13913.839</td>\n",
       "      <td>6.101364e+11</td>\n",
       "    </tr>\n",
       "    <tr>\n",
       "      <th>3</th>\n",
       "      <td>Andorra</td>\n",
       "      <td>Europe</td>\n",
       "      <td>77265.0</td>\n",
       "      <td>83.73</td>\n",
       "      <td>NaN</td>\n",
       "      <td>NaN</td>\n",
       "      <td>NaN</td>\n",
       "    </tr>\n",
       "    <tr>\n",
       "      <th>4</th>\n",
       "      <td>Angola</td>\n",
       "      <td>Africa</td>\n",
       "      <td>32866268.0</td>\n",
       "      <td>61.15</td>\n",
       "      <td>NaN</td>\n",
       "      <td>5819.495</td>\n",
       "      <td>1.912651e+11</td>\n",
       "    </tr>\n",
       "    <tr>\n",
       "      <th>...</th>\n",
       "      <td>...</td>\n",
       "      <td>...</td>\n",
       "      <td>...</td>\n",
       "      <td>...</td>\n",
       "      <td>...</td>\n",
       "      <td>...</td>\n",
       "      <td>...</td>\n",
       "    </tr>\n",
       "    <tr>\n",
       "      <th>205</th>\n",
       "      <td>Vietnam</td>\n",
       "      <td>Asia</td>\n",
       "      <td>97338583.0</td>\n",
       "      <td>75.40</td>\n",
       "      <td>2.60</td>\n",
       "      <td>6171.884</td>\n",
       "      <td>6.007624e+11</td>\n",
       "    </tr>\n",
       "    <tr>\n",
       "      <th>206</th>\n",
       "      <td>Western Sahara</td>\n",
       "      <td>Africa</td>\n",
       "      <td>597330.0</td>\n",
       "      <td>70.26</td>\n",
       "      <td>NaN</td>\n",
       "      <td>NaN</td>\n",
       "      <td>NaN</td>\n",
       "    </tr>\n",
       "    <tr>\n",
       "      <th>207</th>\n",
       "      <td>Yemen</td>\n",
       "      <td>Asia</td>\n",
       "      <td>29825968.0</td>\n",
       "      <td>66.12</td>\n",
       "      <td>0.70</td>\n",
       "      <td>1479.147</td>\n",
       "      <td>4.411699e+10</td>\n",
       "    </tr>\n",
       "    <tr>\n",
       "      <th>208</th>\n",
       "      <td>Zambia</td>\n",
       "      <td>Africa</td>\n",
       "      <td>18383956.0</td>\n",
       "      <td>63.89</td>\n",
       "      <td>2.00</td>\n",
       "      <td>3689.251</td>\n",
       "      <td>6.782303e+10</td>\n",
       "    </tr>\n",
       "    <tr>\n",
       "      <th>209</th>\n",
       "      <td>Zimbabwe</td>\n",
       "      <td>Africa</td>\n",
       "      <td>14862927.0</td>\n",
       "      <td>61.49</td>\n",
       "      <td>1.70</td>\n",
       "      <td>1899.775</td>\n",
       "      <td>2.823622e+10</td>\n",
       "    </tr>\n",
       "  </tbody>\n",
       "</table>\n",
       "<p>210 rows × 7 columns</p>\n",
       "</div>"
      ],
      "text/plain": [
       "           location continent  population  life_expectancy  \\\n",
       "0       Afghanistan      Asia  38928341.0            64.83   \n",
       "1           Albania    Europe   2877800.0            78.57   \n",
       "2           Algeria    Africa  43851043.0            76.88   \n",
       "3           Andorra    Europe     77265.0            83.73   \n",
       "4            Angola    Africa  32866268.0            61.15   \n",
       "..              ...       ...         ...              ...   \n",
       "205         Vietnam      Asia  97338583.0            75.40   \n",
       "206  Western Sahara    Africa    597330.0            70.26   \n",
       "207           Yemen      Asia  29825968.0            66.12   \n",
       "208          Zambia    Africa  18383956.0            63.89   \n",
       "209        Zimbabwe    Africa  14862927.0            61.49   \n",
       "\n",
       "     hospital_beds_per_thousand  gdp_per_capita           gdp  \n",
       "0                          0.50        1803.987  7.022622e+10  \n",
       "1                          2.89       11803.431  3.396791e+10  \n",
       "2                          1.90       13913.839  6.101364e+11  \n",
       "3                           NaN             NaN           NaN  \n",
       "4                           NaN        5819.495  1.912651e+11  \n",
       "..                          ...             ...           ...  \n",
       "205                        2.60        6171.884  6.007624e+11  \n",
       "206                         NaN             NaN           NaN  \n",
       "207                        0.70        1479.147  4.411699e+10  \n",
       "208                        2.00        3689.251  6.782303e+10  \n",
       "209                        1.70        1899.775  2.823622e+10  \n",
       "\n",
       "[210 rows x 7 columns]"
      ]
     },
     "execution_count": 40,
     "metadata": {},
     "output_type": "execute_result"
    }
   ],
   "source": [
    "countries_df"
   ]
  },
  {
   "cell_type": "code",
   "execution_count": 41,
   "metadata": {},
   "outputs": [
    {
     "data": {
      "application/javascript": [
       "window.require && require([\"base/js/namespace\"],function(Jupyter){Jupyter.notebook.save_checkpoint()})"
      ],
      "text/plain": [
       "<IPython.core.display.Javascript object>"
      ]
     },
     "metadata": {},
     "output_type": "display_data"
    },
    {
     "name": "stdout",
     "output_type": "stream",
     "text": [
      "[jovian] Updating notebook \"jadraque94/pandas-practice-assignment\" on https://jovian.ai/\u001b[0m\n",
      "[jovian] Committed successfully! https://jovian.ai/jadraque94/pandas-practice-assignment\u001b[0m\n"
     ]
    },
    {
     "data": {
      "text/plain": [
       "'https://jovian.ai/jadraque94/pandas-practice-assignment'"
      ]
     },
     "execution_count": 41,
     "metadata": {},
     "output_type": "execute_result"
    }
   ],
   "source": [
    "jovian.commit(project='pandas-practice-assignment', environment=None)"
   ]
  },
  {
   "cell_type": "markdown",
   "metadata": {},
   "source": [
    "**Q: (Optional) Create a dataframe containing 10 countries with the lowest GDP per capita, among the counties with population greater than 100 million.**"
   ]
  },
  {
   "cell_type": "code",
   "execution_count": 45,
   "metadata": {},
   "outputs": [
    {
     "data": {
      "text/html": [
       "<div>\n",
       "<style scoped>\n",
       "    .dataframe tbody tr th:only-of-type {\n",
       "        vertical-align: middle;\n",
       "    }\n",
       "\n",
       "    .dataframe tbody tr th {\n",
       "        vertical-align: top;\n",
       "    }\n",
       "\n",
       "    .dataframe thead th {\n",
       "        text-align: right;\n",
       "    }\n",
       "</style>\n",
       "<table border=\"1\" class=\"dataframe\">\n",
       "  <thead>\n",
       "    <tr style=\"text-align: right;\">\n",
       "      <th></th>\n",
       "      <th>location</th>\n",
       "      <th>continent</th>\n",
       "      <th>population</th>\n",
       "      <th>life_expectancy</th>\n",
       "      <th>hospital_beds_per_thousand</th>\n",
       "      <th>gdp_per_capita</th>\n",
       "      <th>gdp</th>\n",
       "    </tr>\n",
       "  </thead>\n",
       "  <tbody>\n",
       "    <tr>\n",
       "      <th>63</th>\n",
       "      <td>Ethiopia</td>\n",
       "      <td>Africa</td>\n",
       "      <td>114963583.0</td>\n",
       "      <td>66.60</td>\n",
       "      <td>0.30</td>\n",
       "      <td>1729.927</td>\n",
       "      <td>1.988786e+11</td>\n",
       "    </tr>\n",
       "    <tr>\n",
       "      <th>15</th>\n",
       "      <td>Bangladesh</td>\n",
       "      <td>Asia</td>\n",
       "      <td>164689383.0</td>\n",
       "      <td>72.59</td>\n",
       "      <td>0.80</td>\n",
       "      <td>3523.984</td>\n",
       "      <td>5.803628e+11</td>\n",
       "    </tr>\n",
       "    <tr>\n",
       "      <th>151</th>\n",
       "      <td>Philippines</td>\n",
       "      <td>Asia</td>\n",
       "      <td>109581085.0</td>\n",
       "      <td>71.23</td>\n",
       "      <td>1.00</td>\n",
       "      <td>7599.188</td>\n",
       "      <td>8.327273e+11</td>\n",
       "    </tr>\n",
       "    <tr>\n",
       "      <th>58</th>\n",
       "      <td>Egypt</td>\n",
       "      <td>Africa</td>\n",
       "      <td>102334403.0</td>\n",
       "      <td>71.99</td>\n",
       "      <td>1.60</td>\n",
       "      <td>10550.206</td>\n",
       "      <td>1.079649e+12</td>\n",
       "    </tr>\n",
       "    <tr>\n",
       "      <th>141</th>\n",
       "      <td>Nigeria</td>\n",
       "      <td>Africa</td>\n",
       "      <td>206139587.0</td>\n",
       "      <td>54.69</td>\n",
       "      <td>NaN</td>\n",
       "      <td>5338.454</td>\n",
       "      <td>1.100467e+12</td>\n",
       "    </tr>\n",
       "    <tr>\n",
       "      <th>145</th>\n",
       "      <td>Pakistan</td>\n",
       "      <td>Asia</td>\n",
       "      <td>220892331.0</td>\n",
       "      <td>67.27</td>\n",
       "      <td>0.60</td>\n",
       "      <td>5034.708</td>\n",
       "      <td>1.112128e+12</td>\n",
       "    </tr>\n",
       "    <tr>\n",
       "      <th>125</th>\n",
       "      <td>Mexico</td>\n",
       "      <td>North America</td>\n",
       "      <td>128932753.0</td>\n",
       "      <td>75.05</td>\n",
       "      <td>1.38</td>\n",
       "      <td>17336.469</td>\n",
       "      <td>2.235239e+12</td>\n",
       "    </tr>\n",
       "    <tr>\n",
       "      <th>27</th>\n",
       "      <td>Brazil</td>\n",
       "      <td>South America</td>\n",
       "      <td>212559409.0</td>\n",
       "      <td>75.88</td>\n",
       "      <td>2.20</td>\n",
       "      <td>14103.452</td>\n",
       "      <td>2.997821e+12</td>\n",
       "    </tr>\n",
       "    <tr>\n",
       "      <th>91</th>\n",
       "      <td>Indonesia</td>\n",
       "      <td>Asia</td>\n",
       "      <td>273523621.0</td>\n",
       "      <td>71.72</td>\n",
       "      <td>1.04</td>\n",
       "      <td>11188.744</td>\n",
       "      <td>3.060386e+12</td>\n",
       "    </tr>\n",
       "    <tr>\n",
       "      <th>157</th>\n",
       "      <td>Russia</td>\n",
       "      <td>Europe</td>\n",
       "      <td>145934460.0</td>\n",
       "      <td>72.58</td>\n",
       "      <td>8.05</td>\n",
       "      <td>24765.954</td>\n",
       "      <td>3.614206e+12</td>\n",
       "    </tr>\n",
       "  </tbody>\n",
       "</table>\n",
       "</div>"
      ],
      "text/plain": [
       "        location      continent   population  life_expectancy  \\\n",
       "63      Ethiopia         Africa  114963583.0            66.60   \n",
       "15    Bangladesh           Asia  164689383.0            72.59   \n",
       "151  Philippines           Asia  109581085.0            71.23   \n",
       "58         Egypt         Africa  102334403.0            71.99   \n",
       "141      Nigeria         Africa  206139587.0            54.69   \n",
       "145     Pakistan           Asia  220892331.0            67.27   \n",
       "125       Mexico  North America  128932753.0            75.05   \n",
       "27        Brazil  South America  212559409.0            75.88   \n",
       "91     Indonesia           Asia  273523621.0            71.72   \n",
       "157       Russia         Europe  145934460.0            72.58   \n",
       "\n",
       "     hospital_beds_per_thousand  gdp_per_capita           gdp  \n",
       "63                         0.30        1729.927  1.988786e+11  \n",
       "15                         0.80        3523.984  5.803628e+11  \n",
       "151                        1.00        7599.188  8.327273e+11  \n",
       "58                         1.60       10550.206  1.079649e+12  \n",
       "141                         NaN        5338.454  1.100467e+12  \n",
       "145                        0.60        5034.708  1.112128e+12  \n",
       "125                        1.38       17336.469  2.235239e+12  \n",
       "27                         2.20       14103.452  2.997821e+12  \n",
       "91                         1.04       11188.744  3.060386e+12  \n",
       "157                        8.05       24765.954  3.614206e+12  "
      ]
     },
     "execution_count": 45,
     "metadata": {},
     "output_type": "execute_result"
    }
   ],
   "source": [
    "great_df=countries_df[countries_df.population>1e+8]\n",
    "great_df.sort_values('gdp').head(10)"
   ]
  },
  {
   "cell_type": "code",
   "execution_count": null,
   "metadata": {},
   "outputs": [],
   "source": []
  },
  {
   "cell_type": "code",
   "execution_count": 46,
   "metadata": {},
   "outputs": [
    {
     "data": {
      "application/javascript": [
       "window.require && require([\"base/js/namespace\"],function(Jupyter){Jupyter.notebook.save_checkpoint()})"
      ],
      "text/plain": [
       "<IPython.core.display.Javascript object>"
      ]
     },
     "metadata": {},
     "output_type": "display_data"
    },
    {
     "name": "stdout",
     "output_type": "stream",
     "text": [
      "[jovian] Updating notebook \"jadraque94/pandas-practice-assignment\" on https://jovian.ai/\u001b[0m\n",
      "[jovian] Committed successfully! https://jovian.ai/jadraque94/pandas-practice-assignment\u001b[0m\n"
     ]
    },
    {
     "data": {
      "text/plain": [
       "'https://jovian.ai/jadraque94/pandas-practice-assignment'"
      ]
     },
     "execution_count": 46,
     "metadata": {},
     "output_type": "execute_result"
    }
   ],
   "source": [
    "jovian.commit(project='pandas-practice-assignment', environment=None)"
   ]
  },
  {
   "cell_type": "markdown",
   "metadata": {},
   "source": [
    "**Q6: Create a data frame that counts the number countries in each continent?**\n",
    "\n",
    "*Hint: Use `groupby`, select the `location` column and aggregate using `count`.*"
   ]
  },
  {
   "cell_type": "code",
   "execution_count": 50,
   "metadata": {},
   "outputs": [],
   "source": [
    "country_counts_df = countries_df.groupby('continent').count()"
   ]
  },
  {
   "cell_type": "code",
   "execution_count": 51,
   "metadata": {},
   "outputs": [
    {
     "data": {
      "text/html": [
       "<div>\n",
       "<style scoped>\n",
       "    .dataframe tbody tr th:only-of-type {\n",
       "        vertical-align: middle;\n",
       "    }\n",
       "\n",
       "    .dataframe tbody tr th {\n",
       "        vertical-align: top;\n",
       "    }\n",
       "\n",
       "    .dataframe thead th {\n",
       "        text-align: right;\n",
       "    }\n",
       "</style>\n",
       "<table border=\"1\" class=\"dataframe\">\n",
       "  <thead>\n",
       "    <tr style=\"text-align: right;\">\n",
       "      <th></th>\n",
       "      <th>location</th>\n",
       "      <th>population</th>\n",
       "      <th>life_expectancy</th>\n",
       "      <th>hospital_beds_per_thousand</th>\n",
       "      <th>gdp_per_capita</th>\n",
       "      <th>gdp</th>\n",
       "    </tr>\n",
       "    <tr>\n",
       "      <th>continent</th>\n",
       "      <th></th>\n",
       "      <th></th>\n",
       "      <th></th>\n",
       "      <th></th>\n",
       "      <th></th>\n",
       "      <th></th>\n",
       "    </tr>\n",
       "  </thead>\n",
       "  <tbody>\n",
       "    <tr>\n",
       "      <th>Africa</th>\n",
       "      <td>55</td>\n",
       "      <td>55</td>\n",
       "      <td>55</td>\n",
       "      <td>40</td>\n",
       "      <td>53</td>\n",
       "      <td>53</td>\n",
       "    </tr>\n",
       "    <tr>\n",
       "      <th>Asia</th>\n",
       "      <td>47</td>\n",
       "      <td>47</td>\n",
       "      <td>47</td>\n",
       "      <td>43</td>\n",
       "      <td>45</td>\n",
       "      <td>45</td>\n",
       "    </tr>\n",
       "    <tr>\n",
       "      <th>Europe</th>\n",
       "      <td>51</td>\n",
       "      <td>51</td>\n",
       "      <td>48</td>\n",
       "      <td>43</td>\n",
       "      <td>42</td>\n",
       "      <td>42</td>\n",
       "    </tr>\n",
       "    <tr>\n",
       "      <th>North America</th>\n",
       "      <td>36</td>\n",
       "      <td>36</td>\n",
       "      <td>36</td>\n",
       "      <td>23</td>\n",
       "      <td>27</td>\n",
       "      <td>27</td>\n",
       "    </tr>\n",
       "    <tr>\n",
       "      <th>Oceania</th>\n",
       "      <td>8</td>\n",
       "      <td>8</td>\n",
       "      <td>8</td>\n",
       "      <td>3</td>\n",
       "      <td>4</td>\n",
       "      <td>4</td>\n",
       "    </tr>\n",
       "    <tr>\n",
       "      <th>South America</th>\n",
       "      <td>13</td>\n",
       "      <td>13</td>\n",
       "      <td>13</td>\n",
       "      <td>12</td>\n",
       "      <td>12</td>\n",
       "      <td>12</td>\n",
       "    </tr>\n",
       "  </tbody>\n",
       "</table>\n",
       "</div>"
      ],
      "text/plain": [
       "               location  population  life_expectancy  \\\n",
       "continent                                              \n",
       "Africa               55          55               55   \n",
       "Asia                 47          47               47   \n",
       "Europe               51          51               48   \n",
       "North America        36          36               36   \n",
       "Oceania               8           8                8   \n",
       "South America        13          13               13   \n",
       "\n",
       "               hospital_beds_per_thousand  gdp_per_capita  gdp  \n",
       "continent                                                       \n",
       "Africa                                 40              53   53  \n",
       "Asia                                   43              45   45  \n",
       "Europe                                 43              42   42  \n",
       "North America                          23              27   27  \n",
       "Oceania                                 3               4    4  \n",
       "South America                          12              12   12  "
      ]
     },
     "execution_count": 51,
     "metadata": {},
     "output_type": "execute_result"
    }
   ],
   "source": [
    "country_counts_df="
   ]
  },
  {
   "cell_type": "code",
   "execution_count": 52,
   "metadata": {},
   "outputs": [
    {
     "data": {
      "application/javascript": [
       "window.require && require([\"base/js/namespace\"],function(Jupyter){Jupyter.notebook.save_checkpoint()})"
      ],
      "text/plain": [
       "<IPython.core.display.Javascript object>"
      ]
     },
     "metadata": {},
     "output_type": "display_data"
    },
    {
     "name": "stdout",
     "output_type": "stream",
     "text": [
      "[jovian] Updating notebook \"jadraque94/pandas-practice-assignment\" on https://jovian.ai/\u001b[0m\n",
      "[jovian] Committed successfully! https://jovian.ai/jadraque94/pandas-practice-assignment\u001b[0m\n"
     ]
    },
    {
     "data": {
      "text/plain": [
       "'https://jovian.ai/jadraque94/pandas-practice-assignment'"
      ]
     },
     "execution_count": 52,
     "metadata": {},
     "output_type": "execute_result"
    }
   ],
   "source": [
    "jovian.commit(project='pandas-practice-assignment', environment=None)"
   ]
  },
  {
   "cell_type": "markdown",
   "metadata": {},
   "source": [
    "**Q7: Create a data frame showing the total population of each continent.**\n",
    "\n",
    "*Hint: Use `groupby`, select the population column and aggregate using `sum`.*"
   ]
  },
  {
   "cell_type": "code",
   "execution_count": 55,
   "metadata": {},
   "outputs": [],
   "source": [
    "continent_populations_df = countries_df.groupby('continent').sum('population')"
   ]
  },
  {
   "cell_type": "code",
   "execution_count": 63,
   "metadata": {},
   "outputs": [
    {
     "data": {
      "text/html": [
       "<div>\n",
       "<style scoped>\n",
       "    .dataframe tbody tr th:only-of-type {\n",
       "        vertical-align: middle;\n",
       "    }\n",
       "\n",
       "    .dataframe tbody tr th {\n",
       "        vertical-align: top;\n",
       "    }\n",
       "\n",
       "    .dataframe thead th {\n",
       "        text-align: right;\n",
       "    }\n",
       "</style>\n",
       "<table border=\"1\" class=\"dataframe\">\n",
       "  <thead>\n",
       "    <tr style=\"text-align: right;\">\n",
       "      <th></th>\n",
       "      <th>population</th>\n",
       "    </tr>\n",
       "    <tr>\n",
       "      <th>continent</th>\n",
       "      <th></th>\n",
       "    </tr>\n",
       "  </thead>\n",
       "  <tbody>\n",
       "    <tr>\n",
       "      <th>Africa</th>\n",
       "      <td>1.339424e+09</td>\n",
       "    </tr>\n",
       "    <tr>\n",
       "      <th>Asia</th>\n",
       "      <td>4.607388e+09</td>\n",
       "    </tr>\n",
       "    <tr>\n",
       "      <th>Europe</th>\n",
       "      <td>7.485062e+08</td>\n",
       "    </tr>\n",
       "    <tr>\n",
       "      <th>North America</th>\n",
       "      <td>5.912425e+08</td>\n",
       "    </tr>\n",
       "    <tr>\n",
       "      <th>Oceania</th>\n",
       "      <td>4.095832e+07</td>\n",
       "    </tr>\n",
       "    <tr>\n",
       "      <th>South America</th>\n",
       "      <td>4.304611e+08</td>\n",
       "    </tr>\n",
       "  </tbody>\n",
       "</table>\n",
       "</div>"
      ],
      "text/plain": [
       "                 population\n",
       "continent                  \n",
       "Africa         1.339424e+09\n",
       "Asia           4.607388e+09\n",
       "Europe         7.485062e+08\n",
       "North America  5.912425e+08\n",
       "Oceania        4.095832e+07\n",
       "South America  4.304611e+08"
      ]
     },
     "execution_count": 63,
     "metadata": {},
     "output_type": "execute_result"
    }
   ],
   "source": [
    "continent_populations_df.iloc[:,:1]"
   ]
  },
  {
   "cell_type": "code",
   "execution_count": 64,
   "metadata": {},
   "outputs": [
    {
     "data": {
      "application/javascript": [
       "window.require && require([\"base/js/namespace\"],function(Jupyter){Jupyter.notebook.save_checkpoint()})"
      ],
      "text/plain": [
       "<IPython.core.display.Javascript object>"
      ]
     },
     "metadata": {},
     "output_type": "display_data"
    },
    {
     "name": "stdout",
     "output_type": "stream",
     "text": [
      "[jovian] Updating notebook \"jadraque94/pandas-practice-assignment\" on https://jovian.ai/\u001b[0m\n",
      "[jovian] Committed successfully! https://jovian.ai/jadraque94/pandas-practice-assignment\u001b[0m\n"
     ]
    },
    {
     "data": {
      "text/plain": [
       "'https://jovian.ai/jadraque94/pandas-practice-assignment'"
      ]
     },
     "execution_count": 64,
     "metadata": {},
     "output_type": "execute_result"
    }
   ],
   "source": [
    "jovian.commit(project='pandas-practice-assignment', environment=None)"
   ]
  },
  {
   "cell_type": "markdown",
   "metadata": {},
   "source": [
    "Let's download another CSV file containing overall Covid-19 stats for various countires, and read the data into another Pandas data frame."
   ]
  },
  {
   "cell_type": "code",
   "execution_count": 65,
   "metadata": {},
   "outputs": [
    {
     "data": {
      "text/plain": [
       "('covid-countries-data.csv', <http.client.HTTPMessage at 0x20dbd3f76d0>)"
      ]
     },
     "execution_count": 65,
     "metadata": {},
     "output_type": "execute_result"
    }
   ],
   "source": [
    "urlretrieve('https://gist.githubusercontent.com/aakashns/b2a968a6cfd9fbbb0ff3d6bd0f26262b/raw/b115ed1dfa17f10fc88bf966236cd4d9032f1df8/covid-countries-data.csv', \n",
    "            'covid-countries-data.csv')"
   ]
  },
  {
   "cell_type": "code",
   "execution_count": 69,
   "metadata": {},
   "outputs": [],
   "source": [
    "covid_data_df = pd.read_csv('covid-countries-data.csv')"
   ]
  },
  {
   "cell_type": "code",
   "execution_count": 70,
   "metadata": {
    "scrolled": true
   },
   "outputs": [
    {
     "data": {
      "text/html": [
       "<div>\n",
       "<style scoped>\n",
       "    .dataframe tbody tr th:only-of-type {\n",
       "        vertical-align: middle;\n",
       "    }\n",
       "\n",
       "    .dataframe tbody tr th {\n",
       "        vertical-align: top;\n",
       "    }\n",
       "\n",
       "    .dataframe thead th {\n",
       "        text-align: right;\n",
       "    }\n",
       "</style>\n",
       "<table border=\"1\" class=\"dataframe\">\n",
       "  <thead>\n",
       "    <tr style=\"text-align: right;\">\n",
       "      <th></th>\n",
       "      <th>location</th>\n",
       "      <th>total_cases</th>\n",
       "      <th>total_deaths</th>\n",
       "      <th>total_tests</th>\n",
       "    </tr>\n",
       "  </thead>\n",
       "  <tbody>\n",
       "    <tr>\n",
       "      <th>0</th>\n",
       "      <td>Afghanistan</td>\n",
       "      <td>38243.0</td>\n",
       "      <td>1409.0</td>\n",
       "      <td>NaN</td>\n",
       "    </tr>\n",
       "    <tr>\n",
       "      <th>1</th>\n",
       "      <td>Albania</td>\n",
       "      <td>9728.0</td>\n",
       "      <td>296.0</td>\n",
       "      <td>NaN</td>\n",
       "    </tr>\n",
       "    <tr>\n",
       "      <th>2</th>\n",
       "      <td>Algeria</td>\n",
       "      <td>45158.0</td>\n",
       "      <td>1525.0</td>\n",
       "      <td>NaN</td>\n",
       "    </tr>\n",
       "    <tr>\n",
       "      <th>3</th>\n",
       "      <td>Andorra</td>\n",
       "      <td>1199.0</td>\n",
       "      <td>53.0</td>\n",
       "      <td>NaN</td>\n",
       "    </tr>\n",
       "    <tr>\n",
       "      <th>4</th>\n",
       "      <td>Angola</td>\n",
       "      <td>2729.0</td>\n",
       "      <td>109.0</td>\n",
       "      <td>NaN</td>\n",
       "    </tr>\n",
       "    <tr>\n",
       "      <th>...</th>\n",
       "      <td>...</td>\n",
       "      <td>...</td>\n",
       "      <td>...</td>\n",
       "      <td>...</td>\n",
       "    </tr>\n",
       "    <tr>\n",
       "      <th>207</th>\n",
       "      <td>Western Sahara</td>\n",
       "      <td>766.0</td>\n",
       "      <td>1.0</td>\n",
       "      <td>NaN</td>\n",
       "    </tr>\n",
       "    <tr>\n",
       "      <th>208</th>\n",
       "      <td>World</td>\n",
       "      <td>26059065.0</td>\n",
       "      <td>863535.0</td>\n",
       "      <td>NaN</td>\n",
       "    </tr>\n",
       "    <tr>\n",
       "      <th>209</th>\n",
       "      <td>Yemen</td>\n",
       "      <td>1976.0</td>\n",
       "      <td>571.0</td>\n",
       "      <td>NaN</td>\n",
       "    </tr>\n",
       "    <tr>\n",
       "      <th>210</th>\n",
       "      <td>Zambia</td>\n",
       "      <td>12415.0</td>\n",
       "      <td>292.0</td>\n",
       "      <td>NaN</td>\n",
       "    </tr>\n",
       "    <tr>\n",
       "      <th>211</th>\n",
       "      <td>Zimbabwe</td>\n",
       "      <td>6638.0</td>\n",
       "      <td>206.0</td>\n",
       "      <td>97272.0</td>\n",
       "    </tr>\n",
       "  </tbody>\n",
       "</table>\n",
       "<p>212 rows × 4 columns</p>\n",
       "</div>"
      ],
      "text/plain": [
       "           location  total_cases  total_deaths  total_tests\n",
       "0       Afghanistan      38243.0        1409.0          NaN\n",
       "1           Albania       9728.0         296.0          NaN\n",
       "2           Algeria      45158.0        1525.0          NaN\n",
       "3           Andorra       1199.0          53.0          NaN\n",
       "4            Angola       2729.0         109.0          NaN\n",
       "..              ...          ...           ...          ...\n",
       "207  Western Sahara        766.0           1.0          NaN\n",
       "208           World   26059065.0      863535.0          NaN\n",
       "209           Yemen       1976.0         571.0          NaN\n",
       "210          Zambia      12415.0         292.0          NaN\n",
       "211        Zimbabwe       6638.0         206.0      97272.0\n",
       "\n",
       "[212 rows x 4 columns]"
      ]
     },
     "execution_count": 70,
     "metadata": {},
     "output_type": "execute_result"
    }
   ],
   "source": [
    "covid_data_df"
   ]
  },
  {
   "cell_type": "markdown",
   "metadata": {},
   "source": [
    "**Q8: Count the number of countries for which the `total_tests` data is missing.**\n",
    "\n",
    "*Hint: Use the `.isna` method.*"
   ]
  },
  {
   "cell_type": "code",
   "execution_count": 108,
   "metadata": {},
   "outputs": [
    {
     "data": {
      "text/plain": [
       "total_tests    122\n",
       "dtype: int64"
      ]
     },
     "execution_count": 108,
     "metadata": {},
     "output_type": "execute_result"
    }
   ],
   "source": [
    "total_tests_missing = covid_data_df[['total_tests']].isna()\n",
    "total_tests_missing=total_tests_missing[total_tests_missing.total_tests==True].count()\n",
    "total_tests_missing"
   ]
  },
  {
   "cell_type": "code",
   "execution_count": 109,
   "metadata": {},
   "outputs": [
    {
     "name": "stdout",
     "output_type": "stream",
     "text": [
      "The data for total tests is missing for 122 countries.\n"
     ]
    }
   ],
   "source": [
    "print(\"The data for total tests is missing for {} countries.\".format(int(total_tests_missing)))"
   ]
  },
  {
   "cell_type": "code",
   "execution_count": 110,
   "metadata": {},
   "outputs": [
    {
     "data": {
      "application/javascript": [
       "window.require && require([\"base/js/namespace\"],function(Jupyter){Jupyter.notebook.save_checkpoint()})"
      ],
      "text/plain": [
       "<IPython.core.display.Javascript object>"
      ]
     },
     "metadata": {},
     "output_type": "display_data"
    },
    {
     "name": "stdout",
     "output_type": "stream",
     "text": [
      "[jovian] Updating notebook \"jadraque94/pandas-practice-assignment\" on https://jovian.ai/\u001b[0m\n",
      "[jovian] Committed successfully! https://jovian.ai/jadraque94/pandas-practice-assignment\u001b[0m\n"
     ]
    },
    {
     "data": {
      "text/plain": [
       "'https://jovian.ai/jadraque94/pandas-practice-assignment'"
      ]
     },
     "execution_count": 110,
     "metadata": {},
     "output_type": "execute_result"
    }
   ],
   "source": [
    "jovian.commit(project='pandas-practice-assignment', environment=None)"
   ]
  },
  {
   "cell_type": "markdown",
   "metadata": {},
   "source": [
    "Let's merge the two data frames, and compute some more metrics.\n",
    "\n",
    "**Q9: Merge `countries_df` with `covid_data_df` on the `location` column.**\n",
    "\n",
    "*Hint: Use the `.merge` method on `countries_df`."
   ]
  },
  {
   "cell_type": "code",
   "execution_count": 111,
   "metadata": {},
   "outputs": [],
   "source": [
    "combined_df =countries_df.merge(covid_data_df, on='location')"
   ]
  },
  {
   "cell_type": "code",
   "execution_count": 112,
   "metadata": {},
   "outputs": [
    {
     "data": {
      "text/html": [
       "<div>\n",
       "<style scoped>\n",
       "    .dataframe tbody tr th:only-of-type {\n",
       "        vertical-align: middle;\n",
       "    }\n",
       "\n",
       "    .dataframe tbody tr th {\n",
       "        vertical-align: top;\n",
       "    }\n",
       "\n",
       "    .dataframe thead th {\n",
       "        text-align: right;\n",
       "    }\n",
       "</style>\n",
       "<table border=\"1\" class=\"dataframe\">\n",
       "  <thead>\n",
       "    <tr style=\"text-align: right;\">\n",
       "      <th></th>\n",
       "      <th>location</th>\n",
       "      <th>continent</th>\n",
       "      <th>population</th>\n",
       "      <th>life_expectancy</th>\n",
       "      <th>hospital_beds_per_thousand</th>\n",
       "      <th>gdp_per_capita</th>\n",
       "      <th>gdp</th>\n",
       "      <th>total_cases</th>\n",
       "      <th>total_deaths</th>\n",
       "      <th>total_tests</th>\n",
       "    </tr>\n",
       "  </thead>\n",
       "  <tbody>\n",
       "    <tr>\n",
       "      <th>0</th>\n",
       "      <td>Afghanistan</td>\n",
       "      <td>Asia</td>\n",
       "      <td>38928341.0</td>\n",
       "      <td>64.83</td>\n",
       "      <td>0.50</td>\n",
       "      <td>1803.987</td>\n",
       "      <td>7.022622e+10</td>\n",
       "      <td>38243.0</td>\n",
       "      <td>1409.0</td>\n",
       "      <td>NaN</td>\n",
       "    </tr>\n",
       "    <tr>\n",
       "      <th>1</th>\n",
       "      <td>Albania</td>\n",
       "      <td>Europe</td>\n",
       "      <td>2877800.0</td>\n",
       "      <td>78.57</td>\n",
       "      <td>2.89</td>\n",
       "      <td>11803.431</td>\n",
       "      <td>3.396791e+10</td>\n",
       "      <td>9728.0</td>\n",
       "      <td>296.0</td>\n",
       "      <td>NaN</td>\n",
       "    </tr>\n",
       "    <tr>\n",
       "      <th>2</th>\n",
       "      <td>Algeria</td>\n",
       "      <td>Africa</td>\n",
       "      <td>43851043.0</td>\n",
       "      <td>76.88</td>\n",
       "      <td>1.90</td>\n",
       "      <td>13913.839</td>\n",
       "      <td>6.101364e+11</td>\n",
       "      <td>45158.0</td>\n",
       "      <td>1525.0</td>\n",
       "      <td>NaN</td>\n",
       "    </tr>\n",
       "    <tr>\n",
       "      <th>3</th>\n",
       "      <td>Andorra</td>\n",
       "      <td>Europe</td>\n",
       "      <td>77265.0</td>\n",
       "      <td>83.73</td>\n",
       "      <td>NaN</td>\n",
       "      <td>NaN</td>\n",
       "      <td>NaN</td>\n",
       "      <td>1199.0</td>\n",
       "      <td>53.0</td>\n",
       "      <td>NaN</td>\n",
       "    </tr>\n",
       "    <tr>\n",
       "      <th>4</th>\n",
       "      <td>Angola</td>\n",
       "      <td>Africa</td>\n",
       "      <td>32866268.0</td>\n",
       "      <td>61.15</td>\n",
       "      <td>NaN</td>\n",
       "      <td>5819.495</td>\n",
       "      <td>1.912651e+11</td>\n",
       "      <td>2729.0</td>\n",
       "      <td>109.0</td>\n",
       "      <td>NaN</td>\n",
       "    </tr>\n",
       "    <tr>\n",
       "      <th>...</th>\n",
       "      <td>...</td>\n",
       "      <td>...</td>\n",
       "      <td>...</td>\n",
       "      <td>...</td>\n",
       "      <td>...</td>\n",
       "      <td>...</td>\n",
       "      <td>...</td>\n",
       "      <td>...</td>\n",
       "      <td>...</td>\n",
       "      <td>...</td>\n",
       "    </tr>\n",
       "    <tr>\n",
       "      <th>205</th>\n",
       "      <td>Vietnam</td>\n",
       "      <td>Asia</td>\n",
       "      <td>97338583.0</td>\n",
       "      <td>75.40</td>\n",
       "      <td>2.60</td>\n",
       "      <td>6171.884</td>\n",
       "      <td>6.007624e+11</td>\n",
       "      <td>1046.0</td>\n",
       "      <td>35.0</td>\n",
       "      <td>261004.0</td>\n",
       "    </tr>\n",
       "    <tr>\n",
       "      <th>206</th>\n",
       "      <td>Western Sahara</td>\n",
       "      <td>Africa</td>\n",
       "      <td>597330.0</td>\n",
       "      <td>70.26</td>\n",
       "      <td>NaN</td>\n",
       "      <td>NaN</td>\n",
       "      <td>NaN</td>\n",
       "      <td>766.0</td>\n",
       "      <td>1.0</td>\n",
       "      <td>NaN</td>\n",
       "    </tr>\n",
       "    <tr>\n",
       "      <th>207</th>\n",
       "      <td>Yemen</td>\n",
       "      <td>Asia</td>\n",
       "      <td>29825968.0</td>\n",
       "      <td>66.12</td>\n",
       "      <td>0.70</td>\n",
       "      <td>1479.147</td>\n",
       "      <td>4.411699e+10</td>\n",
       "      <td>1976.0</td>\n",
       "      <td>571.0</td>\n",
       "      <td>NaN</td>\n",
       "    </tr>\n",
       "    <tr>\n",
       "      <th>208</th>\n",
       "      <td>Zambia</td>\n",
       "      <td>Africa</td>\n",
       "      <td>18383956.0</td>\n",
       "      <td>63.89</td>\n",
       "      <td>2.00</td>\n",
       "      <td>3689.251</td>\n",
       "      <td>6.782303e+10</td>\n",
       "      <td>12415.0</td>\n",
       "      <td>292.0</td>\n",
       "      <td>NaN</td>\n",
       "    </tr>\n",
       "    <tr>\n",
       "      <th>209</th>\n",
       "      <td>Zimbabwe</td>\n",
       "      <td>Africa</td>\n",
       "      <td>14862927.0</td>\n",
       "      <td>61.49</td>\n",
       "      <td>1.70</td>\n",
       "      <td>1899.775</td>\n",
       "      <td>2.823622e+10</td>\n",
       "      <td>6638.0</td>\n",
       "      <td>206.0</td>\n",
       "      <td>97272.0</td>\n",
       "    </tr>\n",
       "  </tbody>\n",
       "</table>\n",
       "<p>210 rows × 10 columns</p>\n",
       "</div>"
      ],
      "text/plain": [
       "           location continent  population  life_expectancy  \\\n",
       "0       Afghanistan      Asia  38928341.0            64.83   \n",
       "1           Albania    Europe   2877800.0            78.57   \n",
       "2           Algeria    Africa  43851043.0            76.88   \n",
       "3           Andorra    Europe     77265.0            83.73   \n",
       "4            Angola    Africa  32866268.0            61.15   \n",
       "..              ...       ...         ...              ...   \n",
       "205         Vietnam      Asia  97338583.0            75.40   \n",
       "206  Western Sahara    Africa    597330.0            70.26   \n",
       "207           Yemen      Asia  29825968.0            66.12   \n",
       "208          Zambia    Africa  18383956.0            63.89   \n",
       "209        Zimbabwe    Africa  14862927.0            61.49   \n",
       "\n",
       "     hospital_beds_per_thousand  gdp_per_capita           gdp  total_cases  \\\n",
       "0                          0.50        1803.987  7.022622e+10      38243.0   \n",
       "1                          2.89       11803.431  3.396791e+10       9728.0   \n",
       "2                          1.90       13913.839  6.101364e+11      45158.0   \n",
       "3                           NaN             NaN           NaN       1199.0   \n",
       "4                           NaN        5819.495  1.912651e+11       2729.0   \n",
       "..                          ...             ...           ...          ...   \n",
       "205                        2.60        6171.884  6.007624e+11       1046.0   \n",
       "206                         NaN             NaN           NaN        766.0   \n",
       "207                        0.70        1479.147  4.411699e+10       1976.0   \n",
       "208                        2.00        3689.251  6.782303e+10      12415.0   \n",
       "209                        1.70        1899.775  2.823622e+10       6638.0   \n",
       "\n",
       "     total_deaths  total_tests  \n",
       "0          1409.0          NaN  \n",
       "1           296.0          NaN  \n",
       "2          1525.0          NaN  \n",
       "3            53.0          NaN  \n",
       "4           109.0          NaN  \n",
       "..            ...          ...  \n",
       "205          35.0     261004.0  \n",
       "206           1.0          NaN  \n",
       "207         571.0          NaN  \n",
       "208         292.0          NaN  \n",
       "209         206.0      97272.0  \n",
       "\n",
       "[210 rows x 10 columns]"
      ]
     },
     "execution_count": 112,
     "metadata": {},
     "output_type": "execute_result"
    }
   ],
   "source": [
    "combined_df"
   ]
  },
  {
   "cell_type": "code",
   "execution_count": 113,
   "metadata": {},
   "outputs": [
    {
     "data": {
      "application/javascript": [
       "window.require && require([\"base/js/namespace\"],function(Jupyter){Jupyter.notebook.save_checkpoint()})"
      ],
      "text/plain": [
       "<IPython.core.display.Javascript object>"
      ]
     },
     "metadata": {},
     "output_type": "display_data"
    },
    {
     "name": "stdout",
     "output_type": "stream",
     "text": [
      "[jovian] Updating notebook \"jadraque94/pandas-practice-assignment\" on https://jovian.ai/\u001b[0m\n",
      "[jovian] Committed successfully! https://jovian.ai/jadraque94/pandas-practice-assignment\u001b[0m\n"
     ]
    },
    {
     "data": {
      "text/plain": [
       "'https://jovian.ai/jadraque94/pandas-practice-assignment'"
      ]
     },
     "execution_count": 113,
     "metadata": {},
     "output_type": "execute_result"
    }
   ],
   "source": [
    "jovian.commit(project='pandas-practice-assignment', environment=None)"
   ]
  },
  {
   "cell_type": "markdown",
   "metadata": {},
   "source": [
    "**Q10: Add columns `tests_per_million`, `cases_per_million` and `deaths_per_million` into `combined_df`.**"
   ]
  },
  {
   "cell_type": "code",
   "execution_count": 116,
   "metadata": {},
   "outputs": [],
   "source": [
    "combined_df['tests_per_million'] = combined_df['total_tests'] * 1e6 / combined_df['population']"
   ]
  },
  {
   "cell_type": "code",
   "execution_count": 117,
   "metadata": {},
   "outputs": [],
   "source": [
    "combined_df['cases_per_million'] = combined_df['total_cases']* 1e6 / combined_df['population']"
   ]
  },
  {
   "cell_type": "code",
   "execution_count": 118,
   "metadata": {},
   "outputs": [],
   "source": [
    "combined_df['deaths_per_million'] = combined_df['total_deaths']* 1e6 / combined_df['population']"
   ]
  },
  {
   "cell_type": "code",
   "execution_count": 123,
   "metadata": {},
   "outputs": [
    {
     "data": {
      "text/html": [
       "<div>\n",
       "<style scoped>\n",
       "    .dataframe tbody tr th:only-of-type {\n",
       "        vertical-align: middle;\n",
       "    }\n",
       "\n",
       "    .dataframe tbody tr th {\n",
       "        vertical-align: top;\n",
       "    }\n",
       "\n",
       "    .dataframe thead th {\n",
       "        text-align: right;\n",
       "    }\n",
       "</style>\n",
       "<table border=\"1\" class=\"dataframe\">\n",
       "  <thead>\n",
       "    <tr style=\"text-align: right;\">\n",
       "      <th></th>\n",
       "      <th>location</th>\n",
       "      <th>continent</th>\n",
       "      <th>population</th>\n",
       "      <th>life_expectancy</th>\n",
       "      <th>hospital_beds_per_thousand</th>\n",
       "      <th>gdp_per_capita</th>\n",
       "      <th>gdp</th>\n",
       "      <th>total_cases</th>\n",
       "      <th>total_deaths</th>\n",
       "      <th>total_tests</th>\n",
       "      <th>deaths_per_million</th>\n",
       "      <th>tests_per_million</th>\n",
       "      <th>cases_per_million</th>\n",
       "    </tr>\n",
       "  </thead>\n",
       "  <tbody>\n",
       "    <tr>\n",
       "      <th>40</th>\n",
       "      <td>Chile</td>\n",
       "      <td>South America</td>\n",
       "      <td>1.911621e+07</td>\n",
       "      <td>80.18</td>\n",
       "      <td>2.11</td>\n",
       "      <td>22767.037</td>\n",
       "      <td>4.352194e+11</td>\n",
       "      <td>414739.0</td>\n",
       "      <td>11344.0</td>\n",
       "      <td>2458762.0</td>\n",
       "      <td>593.423100</td>\n",
       "      <td>128621.841287</td>\n",
       "      <td>21695.671982</td>\n",
       "    </tr>\n",
       "    <tr>\n",
       "      <th>41</th>\n",
       "      <td>China</td>\n",
       "      <td>Asia</td>\n",
       "      <td>1.439324e+09</td>\n",
       "      <td>76.91</td>\n",
       "      <td>4.34</td>\n",
       "      <td>15308.712</td>\n",
       "      <td>2.203419e+13</td>\n",
       "      <td>89953.0</td>\n",
       "      <td>4727.0</td>\n",
       "      <td>NaN</td>\n",
       "      <td>3.284181</td>\n",
       "      <td>NaN</td>\n",
       "      <td>62.496710</td>\n",
       "    </tr>\n",
       "    <tr>\n",
       "      <th>42</th>\n",
       "      <td>Colombia</td>\n",
       "      <td>South America</td>\n",
       "      <td>5.088288e+07</td>\n",
       "      <td>77.29</td>\n",
       "      <td>1.71</td>\n",
       "      <td>13254.949</td>\n",
       "      <td>6.744500e+11</td>\n",
       "      <td>633339.0</td>\n",
       "      <td>20348.0</td>\n",
       "      <td>2647702.0</td>\n",
       "      <td>399.898716</td>\n",
       "      <td>52035.218758</td>\n",
       "      <td>12446.994946</td>\n",
       "    </tr>\n",
       "    <tr>\n",
       "      <th>43</th>\n",
       "      <td>Comoros</td>\n",
       "      <td>Africa</td>\n",
       "      <td>8.695950e+05</td>\n",
       "      <td>64.32</td>\n",
       "      <td>2.20</td>\n",
       "      <td>1413.890</td>\n",
       "      <td>1.229512e+09</td>\n",
       "      <td>427.0</td>\n",
       "      <td>7.0</td>\n",
       "      <td>NaN</td>\n",
       "      <td>8.049724</td>\n",
       "      <td>NaN</td>\n",
       "      <td>491.033182</td>\n",
       "    </tr>\n",
       "    <tr>\n",
       "      <th>44</th>\n",
       "      <td>Congo</td>\n",
       "      <td>Africa</td>\n",
       "      <td>5.518092e+06</td>\n",
       "      <td>64.57</td>\n",
       "      <td>NaN</td>\n",
       "      <td>4881.406</td>\n",
       "      <td>2.693605e+10</td>\n",
       "      <td>4628.0</td>\n",
       "      <td>102.0</td>\n",
       "      <td>NaN</td>\n",
       "      <td>18.484650</td>\n",
       "      <td>NaN</td>\n",
       "      <td>838.695694</td>\n",
       "    </tr>\n",
       "    <tr>\n",
       "      <th>45</th>\n",
       "      <td>Costa Rica</td>\n",
       "      <td>North America</td>\n",
       "      <td>5.094114e+06</td>\n",
       "      <td>80.28</td>\n",
       "      <td>1.13</td>\n",
       "      <td>15524.995</td>\n",
       "      <td>7.908609e+10</td>\n",
       "      <td>43305.0</td>\n",
       "      <td>453.0</td>\n",
       "      <td>131623.0</td>\n",
       "      <td>88.926161</td>\n",
       "      <td>25838.251755</td>\n",
       "      <td>8500.987610</td>\n",
       "    </tr>\n",
       "    <tr>\n",
       "      <th>46</th>\n",
       "      <td>Cote d'Ivoire</td>\n",
       "      <td>Africa</td>\n",
       "      <td>2.637828e+07</td>\n",
       "      <td>57.78</td>\n",
       "      <td>NaN</td>\n",
       "      <td>3601.006</td>\n",
       "      <td>9.498833e+10</td>\n",
       "      <td>18161.0</td>\n",
       "      <td>117.0</td>\n",
       "      <td>127804.0</td>\n",
       "      <td>4.435468</td>\n",
       "      <td>4845.047677</td>\n",
       "      <td>688.483231</td>\n",
       "    </tr>\n",
       "    <tr>\n",
       "      <th>47</th>\n",
       "      <td>Croatia</td>\n",
       "      <td>Europe</td>\n",
       "      <td>4.105268e+06</td>\n",
       "      <td>78.49</td>\n",
       "      <td>5.54</td>\n",
       "      <td>22669.797</td>\n",
       "      <td>9.306559e+10</td>\n",
       "      <td>10725.0</td>\n",
       "      <td>191.0</td>\n",
       "      <td>175346.0</td>\n",
       "      <td>46.525586</td>\n",
       "      <td>42712.436801</td>\n",
       "      <td>2612.496919</td>\n",
       "    </tr>\n",
       "    <tr>\n",
       "      <th>48</th>\n",
       "      <td>Cuba</td>\n",
       "      <td>North America</td>\n",
       "      <td>1.132662e+07</td>\n",
       "      <td>78.80</td>\n",
       "      <td>5.20</td>\n",
       "      <td>NaN</td>\n",
       "      <td>NaN</td>\n",
       "      <td>4126.0</td>\n",
       "      <td>98.0</td>\n",
       "      <td>403181.0</td>\n",
       "      <td>8.652187</td>\n",
       "      <td>35595.892012</td>\n",
       "      <td>364.274731</td>\n",
       "    </tr>\n",
       "    <tr>\n",
       "      <th>49</th>\n",
       "      <td>Curacao</td>\n",
       "      <td>North America</td>\n",
       "      <td>1.641000e+05</td>\n",
       "      <td>78.88</td>\n",
       "      <td>NaN</td>\n",
       "      <td>NaN</td>\n",
       "      <td>NaN</td>\n",
       "      <td>68.0</td>\n",
       "      <td>1.0</td>\n",
       "      <td>NaN</td>\n",
       "      <td>6.093845</td>\n",
       "      <td>NaN</td>\n",
       "      <td>414.381475</td>\n",
       "    </tr>\n",
       "    <tr>\n",
       "      <th>50</th>\n",
       "      <td>Cyprus</td>\n",
       "      <td>Europe</td>\n",
       "      <td>8.758990e+05</td>\n",
       "      <td>80.98</td>\n",
       "      <td>3.40</td>\n",
       "      <td>32415.132</td>\n",
       "      <td>2.839238e+10</td>\n",
       "      <td>1495.0</td>\n",
       "      <td>21.0</td>\n",
       "      <td>NaN</td>\n",
       "      <td>23.975367</td>\n",
       "      <td>NaN</td>\n",
       "      <td>1706.817795</td>\n",
       "    </tr>\n",
       "    <tr>\n",
       "      <th>51</th>\n",
       "      <td>Czech Republic</td>\n",
       "      <td>Europe</td>\n",
       "      <td>1.070898e+07</td>\n",
       "      <td>79.38</td>\n",
       "      <td>6.63</td>\n",
       "      <td>32605.906</td>\n",
       "      <td>3.491761e+11</td>\n",
       "      <td>25773.0</td>\n",
       "      <td>425.0</td>\n",
       "      <td>910872.0</td>\n",
       "      <td>39.686312</td>\n",
       "      <td>85056.824262</td>\n",
       "      <td>2406.671334</td>\n",
       "    </tr>\n",
       "    <tr>\n",
       "      <th>52</th>\n",
       "      <td>Democratic Republic of Congo</td>\n",
       "      <td>Africa</td>\n",
       "      <td>8.956140e+07</td>\n",
       "      <td>60.68</td>\n",
       "      <td>NaN</td>\n",
       "      <td>808.133</td>\n",
       "      <td>7.237753e+10</td>\n",
       "      <td>10113.0</td>\n",
       "      <td>258.0</td>\n",
       "      <td>NaN</td>\n",
       "      <td>2.880705</td>\n",
       "      <td>NaN</td>\n",
       "      <td>112.916944</td>\n",
       "    </tr>\n",
       "    <tr>\n",
       "      <th>53</th>\n",
       "      <td>Denmark</td>\n",
       "      <td>Europe</td>\n",
       "      <td>5.792203e+06</td>\n",
       "      <td>80.90</td>\n",
       "      <td>2.50</td>\n",
       "      <td>46682.515</td>\n",
       "      <td>2.703946e+11</td>\n",
       "      <td>17195.0</td>\n",
       "      <td>626.0</td>\n",
       "      <td>2447911.0</td>\n",
       "      <td>108.076323</td>\n",
       "      <td>422621.755488</td>\n",
       "      <td>2968.645954</td>\n",
       "    </tr>\n",
       "    <tr>\n",
       "      <th>54</th>\n",
       "      <td>Djibouti</td>\n",
       "      <td>Africa</td>\n",
       "      <td>9.880020e+05</td>\n",
       "      <td>67.11</td>\n",
       "      <td>1.40</td>\n",
       "      <td>2705.406</td>\n",
       "      <td>2.672947e+09</td>\n",
       "      <td>5387.0</td>\n",
       "      <td>60.0</td>\n",
       "      <td>NaN</td>\n",
       "      <td>60.728622</td>\n",
       "      <td>NaN</td>\n",
       "      <td>5452.418113</td>\n",
       "    </tr>\n",
       "    <tr>\n",
       "      <th>55</th>\n",
       "      <td>Dominica</td>\n",
       "      <td>North America</td>\n",
       "      <td>7.199100e+04</td>\n",
       "      <td>75.00</td>\n",
       "      <td>3.80</td>\n",
       "      <td>9673.367</td>\n",
       "      <td>6.963954e+08</td>\n",
       "      <td>20.0</td>\n",
       "      <td>0.0</td>\n",
       "      <td>NaN</td>\n",
       "      <td>0.000000</td>\n",
       "      <td>NaN</td>\n",
       "      <td>277.812504</td>\n",
       "    </tr>\n",
       "    <tr>\n",
       "      <th>56</th>\n",
       "      <td>Dominican Republic</td>\n",
       "      <td>North America</td>\n",
       "      <td>1.084790e+07</td>\n",
       "      <td>74.08</td>\n",
       "      <td>1.60</td>\n",
       "      <td>14600.861</td>\n",
       "      <td>1.583887e+11</td>\n",
       "      <td>95627.0</td>\n",
       "      <td>1765.0</td>\n",
       "      <td>NaN</td>\n",
       "      <td>162.704242</td>\n",
       "      <td>NaN</td>\n",
       "      <td>8815.251315</td>\n",
       "    </tr>\n",
       "    <tr>\n",
       "      <th>57</th>\n",
       "      <td>Ecuador</td>\n",
       "      <td>South America</td>\n",
       "      <td>1.764306e+07</td>\n",
       "      <td>77.01</td>\n",
       "      <td>1.50</td>\n",
       "      <td>10581.936</td>\n",
       "      <td>1.866977e+11</td>\n",
       "      <td>115457.0</td>\n",
       "      <td>6619.0</td>\n",
       "      <td>258266.0</td>\n",
       "      <td>375.161678</td>\n",
       "      <td>14638.390393</td>\n",
       "      <td>6544.046214</td>\n",
       "    </tr>\n",
       "    <tr>\n",
       "      <th>58</th>\n",
       "      <td>Egypt</td>\n",
       "      <td>Africa</td>\n",
       "      <td>1.023344e+08</td>\n",
       "      <td>71.99</td>\n",
       "      <td>1.60</td>\n",
       "      <td>10550.206</td>\n",
       "      <td>1.079649e+12</td>\n",
       "      <td>99280.0</td>\n",
       "      <td>5461.0</td>\n",
       "      <td>NaN</td>\n",
       "      <td>53.364263</td>\n",
       "      <td>NaN</td>\n",
       "      <td>970.152726</td>\n",
       "    </tr>\n",
       "    <tr>\n",
       "      <th>59</th>\n",
       "      <td>El Salvador</td>\n",
       "      <td>North America</td>\n",
       "      <td>6.486201e+06</td>\n",
       "      <td>73.32</td>\n",
       "      <td>1.30</td>\n",
       "      <td>7292.458</td>\n",
       "      <td>4.730035e+10</td>\n",
       "      <td>25904.0</td>\n",
       "      <td>739.0</td>\n",
       "      <td>310444.0</td>\n",
       "      <td>113.934181</td>\n",
       "      <td>47862.223203</td>\n",
       "      <td>3993.709106</td>\n",
       "    </tr>\n",
       "    <tr>\n",
       "      <th>60</th>\n",
       "      <td>Equatorial Guinea</td>\n",
       "      <td>Africa</td>\n",
       "      <td>1.402985e+06</td>\n",
       "      <td>58.74</td>\n",
       "      <td>2.10</td>\n",
       "      <td>22604.873</td>\n",
       "      <td>3.171430e+10</td>\n",
       "      <td>4965.0</td>\n",
       "      <td>83.0</td>\n",
       "      <td>NaN</td>\n",
       "      <td>59.159578</td>\n",
       "      <td>NaN</td>\n",
       "      <td>3538.883167</td>\n",
       "    </tr>\n",
       "    <tr>\n",
       "      <th>61</th>\n",
       "      <td>Eritrea</td>\n",
       "      <td>Africa</td>\n",
       "      <td>3.546427e+06</td>\n",
       "      <td>66.32</td>\n",
       "      <td>0.70</td>\n",
       "      <td>1510.459</td>\n",
       "      <td>5.356733e+09</td>\n",
       "      <td>319.0</td>\n",
       "      <td>0.0</td>\n",
       "      <td>NaN</td>\n",
       "      <td>0.000000</td>\n",
       "      <td>NaN</td>\n",
       "      <td>89.949687</td>\n",
       "    </tr>\n",
       "    <tr>\n",
       "      <th>62</th>\n",
       "      <td>Estonia</td>\n",
       "      <td>Europe</td>\n",
       "      <td>1.326539e+06</td>\n",
       "      <td>78.74</td>\n",
       "      <td>4.69</td>\n",
       "      <td>29481.252</td>\n",
       "      <td>3.910803e+10</td>\n",
       "      <td>2415.0</td>\n",
       "      <td>64.0</td>\n",
       "      <td>151940.0</td>\n",
       "      <td>48.245849</td>\n",
       "      <td>114538.660379</td>\n",
       "      <td>1820.526950</td>\n",
       "    </tr>\n",
       "    <tr>\n",
       "      <th>63</th>\n",
       "      <td>Ethiopia</td>\n",
       "      <td>Africa</td>\n",
       "      <td>1.149636e+08</td>\n",
       "      <td>66.60</td>\n",
       "      <td>0.30</td>\n",
       "      <td>1729.927</td>\n",
       "      <td>1.988786e+11</td>\n",
       "      <td>54409.0</td>\n",
       "      <td>846.0</td>\n",
       "      <td>869430.0</td>\n",
       "      <td>7.358852</td>\n",
       "      <td>7562.655732</td>\n",
       "      <td>473.271610</td>\n",
       "    </tr>\n",
       "    <tr>\n",
       "      <th>64</th>\n",
       "      <td>Faeroe Islands</td>\n",
       "      <td>Europe</td>\n",
       "      <td>4.886500e+04</td>\n",
       "      <td>80.67</td>\n",
       "      <td>NaN</td>\n",
       "      <td>NaN</td>\n",
       "      <td>NaN</td>\n",
       "      <td>411.0</td>\n",
       "      <td>0.0</td>\n",
       "      <td>NaN</td>\n",
       "      <td>0.000000</td>\n",
       "      <td>NaN</td>\n",
       "      <td>8410.928067</td>\n",
       "    </tr>\n",
       "    <tr>\n",
       "      <th>65</th>\n",
       "      <td>Falkland Islands</td>\n",
       "      <td>South America</td>\n",
       "      <td>3.483000e+03</td>\n",
       "      <td>81.44</td>\n",
       "      <td>NaN</td>\n",
       "      <td>NaN</td>\n",
       "      <td>NaN</td>\n",
       "      <td>13.0</td>\n",
       "      <td>0.0</td>\n",
       "      <td>NaN</td>\n",
       "      <td>0.000000</td>\n",
       "      <td>NaN</td>\n",
       "      <td>3732.414585</td>\n",
       "    </tr>\n",
       "    <tr>\n",
       "      <th>66</th>\n",
       "      <td>Fiji</td>\n",
       "      <td>Oceania</td>\n",
       "      <td>8.964440e+05</td>\n",
       "      <td>67.44</td>\n",
       "      <td>2.30</td>\n",
       "      <td>8702.975</td>\n",
       "      <td>7.801730e+09</td>\n",
       "      <td>29.0</td>\n",
       "      <td>2.0</td>\n",
       "      <td>8408.0</td>\n",
       "      <td>2.231037</td>\n",
       "      <td>9379.280803</td>\n",
       "      <td>32.350041</td>\n",
       "    </tr>\n",
       "    <tr>\n",
       "      <th>67</th>\n",
       "      <td>Finland</td>\n",
       "      <td>Europe</td>\n",
       "      <td>5.540718e+06</td>\n",
       "      <td>81.91</td>\n",
       "      <td>3.28</td>\n",
       "      <td>40585.721</td>\n",
       "      <td>2.248740e+11</td>\n",
       "      <td>8161.0</td>\n",
       "      <td>336.0</td>\n",
       "      <td>688714.0</td>\n",
       "      <td>60.641960</td>\n",
       "      <td>124300.496795</td>\n",
       "      <td>1472.913799</td>\n",
       "    </tr>\n",
       "    <tr>\n",
       "      <th>68</th>\n",
       "      <td>France</td>\n",
       "      <td>Europe</td>\n",
       "      <td>6.527351e+07</td>\n",
       "      <td>82.66</td>\n",
       "      <td>5.98</td>\n",
       "      <td>38605.671</td>\n",
       "      <td>2.519928e+12</td>\n",
       "      <td>293024.0</td>\n",
       "      <td>30686.0</td>\n",
       "      <td>NaN</td>\n",
       "      <td>470.114125</td>\n",
       "      <td>NaN</td>\n",
       "      <td>4489.171657</td>\n",
       "    </tr>\n",
       "    <tr>\n",
       "      <th>69</th>\n",
       "      <td>French Polynesia</td>\n",
       "      <td>Oceania</td>\n",
       "      <td>2.809040e+05</td>\n",
       "      <td>77.66</td>\n",
       "      <td>NaN</td>\n",
       "      <td>NaN</td>\n",
       "      <td>NaN</td>\n",
       "      <td>596.0</td>\n",
       "      <td>0.0</td>\n",
       "      <td>NaN</td>\n",
       "      <td>0.000000</td>\n",
       "      <td>NaN</td>\n",
       "      <td>2121.721300</td>\n",
       "    </tr>\n",
       "    <tr>\n",
       "      <th>70</th>\n",
       "      <td>Gabon</td>\n",
       "      <td>Africa</td>\n",
       "      <td>2.225728e+06</td>\n",
       "      <td>66.47</td>\n",
       "      <td>6.30</td>\n",
       "      <td>16562.413</td>\n",
       "      <td>3.686343e+10</td>\n",
       "      <td>8538.0</td>\n",
       "      <td>53.0</td>\n",
       "      <td>NaN</td>\n",
       "      <td>23.812434</td>\n",
       "      <td>NaN</td>\n",
       "      <td>3836.048250</td>\n",
       "    </tr>\n",
       "  </tbody>\n",
       "</table>\n",
       "</div>"
      ],
      "text/plain": [
       "                        location      continent    population  \\\n",
       "40                         Chile  South America  1.911621e+07   \n",
       "41                         China           Asia  1.439324e+09   \n",
       "42                      Colombia  South America  5.088288e+07   \n",
       "43                       Comoros         Africa  8.695950e+05   \n",
       "44                         Congo         Africa  5.518092e+06   \n",
       "45                    Costa Rica  North America  5.094114e+06   \n",
       "46                 Cote d'Ivoire         Africa  2.637828e+07   \n",
       "47                       Croatia         Europe  4.105268e+06   \n",
       "48                          Cuba  North America  1.132662e+07   \n",
       "49                       Curacao  North America  1.641000e+05   \n",
       "50                        Cyprus         Europe  8.758990e+05   \n",
       "51                Czech Republic         Europe  1.070898e+07   \n",
       "52  Democratic Republic of Congo         Africa  8.956140e+07   \n",
       "53                       Denmark         Europe  5.792203e+06   \n",
       "54                      Djibouti         Africa  9.880020e+05   \n",
       "55                      Dominica  North America  7.199100e+04   \n",
       "56            Dominican Republic  North America  1.084790e+07   \n",
       "57                       Ecuador  South America  1.764306e+07   \n",
       "58                         Egypt         Africa  1.023344e+08   \n",
       "59                   El Salvador  North America  6.486201e+06   \n",
       "60             Equatorial Guinea         Africa  1.402985e+06   \n",
       "61                       Eritrea         Africa  3.546427e+06   \n",
       "62                       Estonia         Europe  1.326539e+06   \n",
       "63                      Ethiopia         Africa  1.149636e+08   \n",
       "64                Faeroe Islands         Europe  4.886500e+04   \n",
       "65              Falkland Islands  South America  3.483000e+03   \n",
       "66                          Fiji        Oceania  8.964440e+05   \n",
       "67                       Finland         Europe  5.540718e+06   \n",
       "68                        France         Europe  6.527351e+07   \n",
       "69              French Polynesia        Oceania  2.809040e+05   \n",
       "70                         Gabon         Africa  2.225728e+06   \n",
       "\n",
       "    life_expectancy  hospital_beds_per_thousand  gdp_per_capita           gdp  \\\n",
       "40            80.18                        2.11       22767.037  4.352194e+11   \n",
       "41            76.91                        4.34       15308.712  2.203419e+13   \n",
       "42            77.29                        1.71       13254.949  6.744500e+11   \n",
       "43            64.32                        2.20        1413.890  1.229512e+09   \n",
       "44            64.57                         NaN        4881.406  2.693605e+10   \n",
       "45            80.28                        1.13       15524.995  7.908609e+10   \n",
       "46            57.78                         NaN        3601.006  9.498833e+10   \n",
       "47            78.49                        5.54       22669.797  9.306559e+10   \n",
       "48            78.80                        5.20             NaN           NaN   \n",
       "49            78.88                         NaN             NaN           NaN   \n",
       "50            80.98                        3.40       32415.132  2.839238e+10   \n",
       "51            79.38                        6.63       32605.906  3.491761e+11   \n",
       "52            60.68                         NaN         808.133  7.237753e+10   \n",
       "53            80.90                        2.50       46682.515  2.703946e+11   \n",
       "54            67.11                        1.40        2705.406  2.672947e+09   \n",
       "55            75.00                        3.80        9673.367  6.963954e+08   \n",
       "56            74.08                        1.60       14600.861  1.583887e+11   \n",
       "57            77.01                        1.50       10581.936  1.866977e+11   \n",
       "58            71.99                        1.60       10550.206  1.079649e+12   \n",
       "59            73.32                        1.30        7292.458  4.730035e+10   \n",
       "60            58.74                        2.10       22604.873  3.171430e+10   \n",
       "61            66.32                        0.70        1510.459  5.356733e+09   \n",
       "62            78.74                        4.69       29481.252  3.910803e+10   \n",
       "63            66.60                        0.30        1729.927  1.988786e+11   \n",
       "64            80.67                         NaN             NaN           NaN   \n",
       "65            81.44                         NaN             NaN           NaN   \n",
       "66            67.44                        2.30        8702.975  7.801730e+09   \n",
       "67            81.91                        3.28       40585.721  2.248740e+11   \n",
       "68            82.66                        5.98       38605.671  2.519928e+12   \n",
       "69            77.66                         NaN             NaN           NaN   \n",
       "70            66.47                        6.30       16562.413  3.686343e+10   \n",
       "\n",
       "    total_cases  total_deaths  total_tests  deaths_per_million  \\\n",
       "40     414739.0       11344.0    2458762.0          593.423100   \n",
       "41      89953.0        4727.0          NaN            3.284181   \n",
       "42     633339.0       20348.0    2647702.0          399.898716   \n",
       "43        427.0           7.0          NaN            8.049724   \n",
       "44       4628.0         102.0          NaN           18.484650   \n",
       "45      43305.0         453.0     131623.0           88.926161   \n",
       "46      18161.0         117.0     127804.0            4.435468   \n",
       "47      10725.0         191.0     175346.0           46.525586   \n",
       "48       4126.0          98.0     403181.0            8.652187   \n",
       "49         68.0           1.0          NaN            6.093845   \n",
       "50       1495.0          21.0          NaN           23.975367   \n",
       "51      25773.0         425.0     910872.0           39.686312   \n",
       "52      10113.0         258.0          NaN            2.880705   \n",
       "53      17195.0         626.0    2447911.0          108.076323   \n",
       "54       5387.0          60.0          NaN           60.728622   \n",
       "55         20.0           0.0          NaN            0.000000   \n",
       "56      95627.0        1765.0          NaN          162.704242   \n",
       "57     115457.0        6619.0     258266.0          375.161678   \n",
       "58      99280.0        5461.0          NaN           53.364263   \n",
       "59      25904.0         739.0     310444.0          113.934181   \n",
       "60       4965.0          83.0          NaN           59.159578   \n",
       "61        319.0           0.0          NaN            0.000000   \n",
       "62       2415.0          64.0     151940.0           48.245849   \n",
       "63      54409.0         846.0     869430.0            7.358852   \n",
       "64        411.0           0.0          NaN            0.000000   \n",
       "65         13.0           0.0          NaN            0.000000   \n",
       "66         29.0           2.0       8408.0            2.231037   \n",
       "67       8161.0         336.0     688714.0           60.641960   \n",
       "68     293024.0       30686.0          NaN          470.114125   \n",
       "69        596.0           0.0          NaN            0.000000   \n",
       "70       8538.0          53.0          NaN           23.812434   \n",
       "\n",
       "    tests_per_million  cases_per_million  \n",
       "40      128621.841287       21695.671982  \n",
       "41                NaN          62.496710  \n",
       "42       52035.218758       12446.994946  \n",
       "43                NaN         491.033182  \n",
       "44                NaN         838.695694  \n",
       "45       25838.251755        8500.987610  \n",
       "46        4845.047677         688.483231  \n",
       "47       42712.436801        2612.496919  \n",
       "48       35595.892012         364.274731  \n",
       "49                NaN         414.381475  \n",
       "50                NaN        1706.817795  \n",
       "51       85056.824262        2406.671334  \n",
       "52                NaN         112.916944  \n",
       "53      422621.755488        2968.645954  \n",
       "54                NaN        5452.418113  \n",
       "55                NaN         277.812504  \n",
       "56                NaN        8815.251315  \n",
       "57       14638.390393        6544.046214  \n",
       "58                NaN         970.152726  \n",
       "59       47862.223203        3993.709106  \n",
       "60                NaN        3538.883167  \n",
       "61                NaN          89.949687  \n",
       "62      114538.660379        1820.526950  \n",
       "63        7562.655732         473.271610  \n",
       "64                NaN        8410.928067  \n",
       "65                NaN        3732.414585  \n",
       "66        9379.280803          32.350041  \n",
       "67      124300.496795        1472.913799  \n",
       "68                NaN        4489.171657  \n",
       "69                NaN        2121.721300  \n",
       "70                NaN        3836.048250  "
      ]
     },
     "execution_count": 123,
     "metadata": {},
     "output_type": "execute_result"
    }
   ],
   "source": [
    "combined_df.loc[40:70]"
   ]
  },
  {
   "cell_type": "code",
   "execution_count": 124,
   "metadata": {},
   "outputs": [
    {
     "data": {
      "application/javascript": [
       "window.require && require([\"base/js/namespace\"],function(Jupyter){Jupyter.notebook.save_checkpoint()})"
      ],
      "text/plain": [
       "<IPython.core.display.Javascript object>"
      ]
     },
     "metadata": {},
     "output_type": "display_data"
    },
    {
     "name": "stdout",
     "output_type": "stream",
     "text": [
      "[jovian] Updating notebook \"jadraque94/pandas-practice-assignment\" on https://jovian.ai/\u001b[0m\n",
      "[jovian] Committed successfully! https://jovian.ai/jadraque94/pandas-practice-assignment\u001b[0m\n"
     ]
    },
    {
     "data": {
      "text/plain": [
       "'https://jovian.ai/jadraque94/pandas-practice-assignment'"
      ]
     },
     "execution_count": 124,
     "metadata": {},
     "output_type": "execute_result"
    }
   ],
   "source": [
    "jovian.commit(project='pandas-practice-assignment', environment=None)"
   ]
  },
  {
   "cell_type": "markdown",
   "metadata": {},
   "source": [
    "**Q11: Create a dataframe with 10 countires that have highest number of tests per million people.**"
   ]
  },
  {
   "cell_type": "code",
   "execution_count": 128,
   "metadata": {},
   "outputs": [],
   "source": [
    "highest_tests_df = combined_df.sort_values('tests_per_million', ascending=False)"
   ]
  },
  {
   "cell_type": "code",
   "execution_count": 129,
   "metadata": {},
   "outputs": [
    {
     "data": {
      "text/html": [
       "<div>\n",
       "<style scoped>\n",
       "    .dataframe tbody tr th:only-of-type {\n",
       "        vertical-align: middle;\n",
       "    }\n",
       "\n",
       "    .dataframe tbody tr th {\n",
       "        vertical-align: top;\n",
       "    }\n",
       "\n",
       "    .dataframe thead th {\n",
       "        text-align: right;\n",
       "    }\n",
       "</style>\n",
       "<table border=\"1\" class=\"dataframe\">\n",
       "  <thead>\n",
       "    <tr style=\"text-align: right;\">\n",
       "      <th></th>\n",
       "      <th>location</th>\n",
       "      <th>continent</th>\n",
       "      <th>population</th>\n",
       "      <th>life_expectancy</th>\n",
       "      <th>hospital_beds_per_thousand</th>\n",
       "      <th>gdp_per_capita</th>\n",
       "      <th>gdp</th>\n",
       "      <th>total_cases</th>\n",
       "      <th>total_deaths</th>\n",
       "      <th>total_tests</th>\n",
       "      <th>deaths_per_million</th>\n",
       "      <th>tests_per_million</th>\n",
       "      <th>cases_per_million</th>\n",
       "    </tr>\n",
       "  </thead>\n",
       "  <tbody>\n",
       "    <tr>\n",
       "      <th>197</th>\n",
       "      <td>United Arab Emirates</td>\n",
       "      <td>Asia</td>\n",
       "      <td>9890400.0</td>\n",
       "      <td>77.97</td>\n",
       "      <td>1.200</td>\n",
       "      <td>67293.483</td>\n",
       "      <td>6.655595e+11</td>\n",
       "      <td>71540.0</td>\n",
       "      <td>387.0</td>\n",
       "      <td>7177430.0</td>\n",
       "      <td>39.128852</td>\n",
       "      <td>725696.635121</td>\n",
       "      <td>7233.276713</td>\n",
       "    </tr>\n",
       "    <tr>\n",
       "      <th>14</th>\n",
       "      <td>Bahrain</td>\n",
       "      <td>Asia</td>\n",
       "      <td>1701583.0</td>\n",
       "      <td>77.29</td>\n",
       "      <td>2.000</td>\n",
       "      <td>43290.705</td>\n",
       "      <td>7.366273e+10</td>\n",
       "      <td>52440.0</td>\n",
       "      <td>190.0</td>\n",
       "      <td>1118837.0</td>\n",
       "      <td>111.660730</td>\n",
       "      <td>657527.137965</td>\n",
       "      <td>30818.361490</td>\n",
       "    </tr>\n",
       "    <tr>\n",
       "      <th>115</th>\n",
       "      <td>Luxembourg</td>\n",
       "      <td>Europe</td>\n",
       "      <td>625976.0</td>\n",
       "      <td>82.25</td>\n",
       "      <td>4.510</td>\n",
       "      <td>94277.965</td>\n",
       "      <td>5.901574e+10</td>\n",
       "      <td>7928.0</td>\n",
       "      <td>124.0</td>\n",
       "      <td>385820.0</td>\n",
       "      <td>198.090662</td>\n",
       "      <td>616349.508607</td>\n",
       "      <td>12665.022301</td>\n",
       "    </tr>\n",
       "    <tr>\n",
       "      <th>122</th>\n",
       "      <td>Malta</td>\n",
       "      <td>Europe</td>\n",
       "      <td>441539.0</td>\n",
       "      <td>82.53</td>\n",
       "      <td>4.485</td>\n",
       "      <td>36513.323</td>\n",
       "      <td>1.612206e+10</td>\n",
       "      <td>1931.0</td>\n",
       "      <td>13.0</td>\n",
       "      <td>188539.0</td>\n",
       "      <td>29.442473</td>\n",
       "      <td>427004.183096</td>\n",
       "      <td>4373.339614</td>\n",
       "    </tr>\n",
       "    <tr>\n",
       "      <th>53</th>\n",
       "      <td>Denmark</td>\n",
       "      <td>Europe</td>\n",
       "      <td>5792203.0</td>\n",
       "      <td>80.90</td>\n",
       "      <td>2.500</td>\n",
       "      <td>46682.515</td>\n",
       "      <td>2.703946e+11</td>\n",
       "      <td>17195.0</td>\n",
       "      <td>626.0</td>\n",
       "      <td>2447911.0</td>\n",
       "      <td>108.076323</td>\n",
       "      <td>422621.755488</td>\n",
       "      <td>2968.645954</td>\n",
       "    </tr>\n",
       "    <tr>\n",
       "      <th>96</th>\n",
       "      <td>Israel</td>\n",
       "      <td>Asia</td>\n",
       "      <td>8655541.0</td>\n",
       "      <td>82.97</td>\n",
       "      <td>2.990</td>\n",
       "      <td>33132.320</td>\n",
       "      <td>2.867782e+11</td>\n",
       "      <td>122539.0</td>\n",
       "      <td>969.0</td>\n",
       "      <td>2353984.0</td>\n",
       "      <td>111.951408</td>\n",
       "      <td>271962.665303</td>\n",
       "      <td>14157.289533</td>\n",
       "    </tr>\n",
       "    <tr>\n",
       "      <th>89</th>\n",
       "      <td>Iceland</td>\n",
       "      <td>Europe</td>\n",
       "      <td>341250.0</td>\n",
       "      <td>82.99</td>\n",
       "      <td>2.910</td>\n",
       "      <td>46482.958</td>\n",
       "      <td>1.586231e+10</td>\n",
       "      <td>2121.0</td>\n",
       "      <td>10.0</td>\n",
       "      <td>88829.0</td>\n",
       "      <td>29.304029</td>\n",
       "      <td>260304.761905</td>\n",
       "      <td>6215.384615</td>\n",
       "    </tr>\n",
       "    <tr>\n",
       "      <th>157</th>\n",
       "      <td>Russia</td>\n",
       "      <td>Europe</td>\n",
       "      <td>145934460.0</td>\n",
       "      <td>72.58</td>\n",
       "      <td>8.050</td>\n",
       "      <td>24765.954</td>\n",
       "      <td>3.614206e+12</td>\n",
       "      <td>1005000.0</td>\n",
       "      <td>17414.0</td>\n",
       "      <td>37176827.0</td>\n",
       "      <td>119.327539</td>\n",
       "      <td>254750.159763</td>\n",
       "      <td>6886.653091</td>\n",
       "    </tr>\n",
       "    <tr>\n",
       "      <th>199</th>\n",
       "      <td>United States</td>\n",
       "      <td>North America</td>\n",
       "      <td>331002647.0</td>\n",
       "      <td>78.86</td>\n",
       "      <td>2.770</td>\n",
       "      <td>54225.446</td>\n",
       "      <td>1.794877e+13</td>\n",
       "      <td>6114406.0</td>\n",
       "      <td>185744.0</td>\n",
       "      <td>83898416.0</td>\n",
       "      <td>561.155633</td>\n",
       "      <td>253467.507769</td>\n",
       "      <td>18472.377957</td>\n",
       "    </tr>\n",
       "    <tr>\n",
       "      <th>10</th>\n",
       "      <td>Australia</td>\n",
       "      <td>Oceania</td>\n",
       "      <td>25499881.0</td>\n",
       "      <td>83.44</td>\n",
       "      <td>3.840</td>\n",
       "      <td>44648.710</td>\n",
       "      <td>1.138537e+12</td>\n",
       "      <td>25923.0</td>\n",
       "      <td>663.0</td>\n",
       "      <td>6255797.0</td>\n",
       "      <td>26.000121</td>\n",
       "      <td>245326.517406</td>\n",
       "      <td>1016.592979</td>\n",
       "    </tr>\n",
       "  </tbody>\n",
       "</table>\n",
       "</div>"
      ],
      "text/plain": [
       "                 location      continent   population  life_expectancy  \\\n",
       "197  United Arab Emirates           Asia    9890400.0            77.97   \n",
       "14                Bahrain           Asia    1701583.0            77.29   \n",
       "115            Luxembourg         Europe     625976.0            82.25   \n",
       "122                 Malta         Europe     441539.0            82.53   \n",
       "53                Denmark         Europe    5792203.0            80.90   \n",
       "96                 Israel           Asia    8655541.0            82.97   \n",
       "89                Iceland         Europe     341250.0            82.99   \n",
       "157                Russia         Europe  145934460.0            72.58   \n",
       "199         United States  North America  331002647.0            78.86   \n",
       "10              Australia        Oceania   25499881.0            83.44   \n",
       "\n",
       "     hospital_beds_per_thousand  gdp_per_capita           gdp  total_cases  \\\n",
       "197                       1.200       67293.483  6.655595e+11      71540.0   \n",
       "14                        2.000       43290.705  7.366273e+10      52440.0   \n",
       "115                       4.510       94277.965  5.901574e+10       7928.0   \n",
       "122                       4.485       36513.323  1.612206e+10       1931.0   \n",
       "53                        2.500       46682.515  2.703946e+11      17195.0   \n",
       "96                        2.990       33132.320  2.867782e+11     122539.0   \n",
       "89                        2.910       46482.958  1.586231e+10       2121.0   \n",
       "157                       8.050       24765.954  3.614206e+12    1005000.0   \n",
       "199                       2.770       54225.446  1.794877e+13    6114406.0   \n",
       "10                        3.840       44648.710  1.138537e+12      25923.0   \n",
       "\n",
       "     total_deaths  total_tests  deaths_per_million  tests_per_million  \\\n",
       "197         387.0    7177430.0           39.128852      725696.635121   \n",
       "14          190.0    1118837.0          111.660730      657527.137965   \n",
       "115         124.0     385820.0          198.090662      616349.508607   \n",
       "122          13.0     188539.0           29.442473      427004.183096   \n",
       "53          626.0    2447911.0          108.076323      422621.755488   \n",
       "96          969.0    2353984.0          111.951408      271962.665303   \n",
       "89           10.0      88829.0           29.304029      260304.761905   \n",
       "157       17414.0   37176827.0          119.327539      254750.159763   \n",
       "199      185744.0   83898416.0          561.155633      253467.507769   \n",
       "10          663.0    6255797.0           26.000121      245326.517406   \n",
       "\n",
       "     cases_per_million  \n",
       "197        7233.276713  \n",
       "14        30818.361490  \n",
       "115       12665.022301  \n",
       "122        4373.339614  \n",
       "53         2968.645954  \n",
       "96        14157.289533  \n",
       "89         6215.384615  \n",
       "157        6886.653091  \n",
       "199       18472.377957  \n",
       "10         1016.592979  "
      ]
     },
     "execution_count": 129,
     "metadata": {},
     "output_type": "execute_result"
    }
   ],
   "source": [
    "highest_tests_df.head(10)"
   ]
  },
  {
   "cell_type": "code",
   "execution_count": 130,
   "metadata": {},
   "outputs": [
    {
     "data": {
      "application/javascript": [
       "window.require && require([\"base/js/namespace\"],function(Jupyter){Jupyter.notebook.save_checkpoint()})"
      ],
      "text/plain": [
       "<IPython.core.display.Javascript object>"
      ]
     },
     "metadata": {},
     "output_type": "display_data"
    },
    {
     "name": "stdout",
     "output_type": "stream",
     "text": [
      "[jovian] Updating notebook \"jadraque94/pandas-practice-assignment\" on https://jovian.ai/\u001b[0m\n",
      "[jovian] Committed successfully! https://jovian.ai/jadraque94/pandas-practice-assignment\u001b[0m\n"
     ]
    },
    {
     "data": {
      "text/plain": [
       "'https://jovian.ai/jadraque94/pandas-practice-assignment'"
      ]
     },
     "execution_count": 130,
     "metadata": {},
     "output_type": "execute_result"
    }
   ],
   "source": [
    "jovian.commit(project='pandas-practice-assignment', environment=None)"
   ]
  },
  {
   "cell_type": "markdown",
   "metadata": {},
   "source": [
    "**Q12: Create a dataframe with 10 countires that have highest number of positive cases per million people.**"
   ]
  },
  {
   "cell_type": "code",
   "execution_count": 132,
   "metadata": {},
   "outputs": [],
   "source": [
    "highest_cases_df = combined_df.sort_values('cases_per_million', ascending=False)"
   ]
  },
  {
   "cell_type": "code",
   "execution_count": 162,
   "metadata": {},
   "outputs": [],
   "source": [
    "highest_cases_df.head(10)\n",
    "highest_cases_df.head(10).reset_index(inplace=True, drop=False)"
   ]
  },
  {
   "cell_type": "code",
   "execution_count": 135,
   "metadata": {},
   "outputs": [
    {
     "data": {
      "application/javascript": [
       "window.require && require([\"base/js/namespace\"],function(Jupyter){Jupyter.notebook.save_checkpoint()})"
      ],
      "text/plain": [
       "<IPython.core.display.Javascript object>"
      ]
     },
     "metadata": {},
     "output_type": "display_data"
    },
    {
     "name": "stdout",
     "output_type": "stream",
     "text": [
      "[jovian] Updating notebook \"jadraque94/pandas-practice-assignment\" on https://jovian.ai/\u001b[0m\n",
      "[jovian] Committed successfully! https://jovian.ai/jadraque94/pandas-practice-assignment\u001b[0m\n"
     ]
    },
    {
     "data": {
      "text/plain": [
       "'https://jovian.ai/jadraque94/pandas-practice-assignment'"
      ]
     },
     "execution_count": 135,
     "metadata": {},
     "output_type": "execute_result"
    }
   ],
   "source": [
    "jovian.commit(project='pandas-practice-assignment', environment=None)"
   ]
  },
  {
   "cell_type": "markdown",
   "metadata": {},
   "source": [
    "**Q13: Create a dataframe with 10 countires that have highest number of deaths cases per million people?**"
   ]
  },
  {
   "cell_type": "code",
   "execution_count": null,
   "metadata": {},
   "outputs": [],
   "source": [
    "highest_deaths_df = "
   ]
  },
  {
   "cell_type": "code",
   "execution_count": null,
   "metadata": {},
   "outputs": [],
   "source": [
    "highest_deaths_df"
   ]
  },
  {
   "cell_type": "code",
   "execution_count": null,
   "metadata": {},
   "outputs": [],
   "source": [
    "jovian.commit(project='pandas-practice-assignment', environment=None)"
   ]
  },
  {
   "cell_type": "markdown",
   "metadata": {},
   "source": [
    "**(Optional) Q: Count number of countries that feature in both the lists of \"highest number of tests per million\" and \"highest number of cases per million\".**"
   ]
  },
  {
   "cell_type": "code",
   "execution_count": 172,
   "metadata": {},
   "outputs": [
    {
     "ename": "AttributeError",
     "evalue": "'NoneType' object has no attribute 'compare'",
     "output_type": "error",
     "traceback": [
      "\u001b[1;31m---------------------------------------------------------------------------\u001b[0m",
      "\u001b[1;31mAttributeError\u001b[0m                            Traceback (most recent call last)",
      "\u001b[1;32mC:\\Users\\PCDUCH~1\\AppData\\Local\\Temp/ipykernel_10692/1152494986.py\u001b[0m in \u001b[0;36m<module>\u001b[1;34m\u001b[0m\n\u001b[0;32m      1\u001b[0m \u001b[0mc\u001b[0m\u001b[1;33m=\u001b[0m\u001b[0mhighest_cases_df\u001b[0m\u001b[1;33m.\u001b[0m\u001b[0mhead\u001b[0m\u001b[1;33m(\u001b[0m\u001b[1;36m10\u001b[0m\u001b[1;33m)\u001b[0m\u001b[1;33m.\u001b[0m\u001b[0miloc\u001b[0m\u001b[1;33m[\u001b[0m\u001b[1;33m:\u001b[0m\u001b[1;33m,\u001b[0m\u001b[1;33m:\u001b[0m\u001b[1;36m2\u001b[0m\u001b[1;33m]\u001b[0m\u001b[1;33m.\u001b[0m\u001b[0mreset_index\u001b[0m\u001b[1;33m(\u001b[0m\u001b[0minplace\u001b[0m\u001b[1;33m=\u001b[0m\u001b[1;32mTrue\u001b[0m\u001b[1;33m,\u001b[0m \u001b[0mdrop\u001b[0m\u001b[1;33m=\u001b[0m\u001b[1;32mFalse\u001b[0m\u001b[1;33m)\u001b[0m\u001b[1;33m\u001b[0m\u001b[1;33m\u001b[0m\u001b[0m\n\u001b[0;32m      2\u001b[0m \u001b[0mh\u001b[0m\u001b[1;33m=\u001b[0m\u001b[0mhighest_tests_df\u001b[0m\u001b[1;33m.\u001b[0m\u001b[0mhead\u001b[0m\u001b[1;33m(\u001b[0m\u001b[1;36m10\u001b[0m\u001b[1;33m)\u001b[0m\u001b[1;33m.\u001b[0m\u001b[0miloc\u001b[0m\u001b[1;33m[\u001b[0m\u001b[1;33m:\u001b[0m\u001b[1;33m,\u001b[0m\u001b[1;33m:\u001b[0m\u001b[1;36m2\u001b[0m\u001b[1;33m]\u001b[0m\u001b[1;33m.\u001b[0m\u001b[0mreset_index\u001b[0m\u001b[1;33m(\u001b[0m\u001b[0minplace\u001b[0m\u001b[1;33m=\u001b[0m\u001b[1;32mTrue\u001b[0m\u001b[1;33m,\u001b[0m \u001b[0mdrop\u001b[0m\u001b[1;33m=\u001b[0m\u001b[1;32mFalse\u001b[0m\u001b[1;33m)\u001b[0m\u001b[1;33m\u001b[0m\u001b[1;33m\u001b[0m\u001b[0m\n\u001b[1;32m----> 3\u001b[1;33m \u001b[0mc\u001b[0m\u001b[1;33m.\u001b[0m\u001b[0mcompare\u001b[0m\u001b[1;33m(\u001b[0m\u001b[0mh\u001b[0m\u001b[1;33m)\u001b[0m\u001b[1;33m\u001b[0m\u001b[1;33m\u001b[0m\u001b[0m\n\u001b[0m",
      "\u001b[1;31mAttributeError\u001b[0m: 'NoneType' object has no attribute 'compare'"
     ]
    }
   ],
   "source": [
    "c=highest_cases_df.head(10).iloc[:,:2].reset_index(inplace=True, drop=False)\n",
    "h=highest_tests_df.head(10).iloc[:,:2].reset_index(inplace=True, drop=False)\n",
    "c.compare(h)"
   ]
  },
  {
   "cell_type": "code",
   "execution_count": 188,
   "metadata": {},
   "outputs": [
    {
     "name": "stdout",
     "output_type": "stream",
     "text": [
      "          location      continent\n",
      "155          Qatar           Asia\n",
      "14         Bahrain           Asia\n",
      "147         Panama  North America\n",
      "40           Chile  South America\n",
      "162     San Marino         Europe\n",
      "9            Aruba  North America\n",
      "105         Kuwait           Asia\n",
      "150           Peru  South America\n",
      "27          Brazil  South America\n",
      "199  United States  North America\n"
     ]
    }
   ],
   "source": [
    "c=highest_cases_df.head(10)\n",
    "c.reset_index()\n",
    "c=c.iloc[:,:2]\n",
    "print(c)"
   ]
  },
  {
   "cell_type": "code",
   "execution_count": null,
   "metadata": {},
   "outputs": [],
   "source": []
  },
  {
   "cell_type": "code",
   "execution_count": null,
   "metadata": {},
   "outputs": [],
   "source": [
    "jovian.commit(project='pandas-practice-assignment', environment=None)"
   ]
  },
  {
   "cell_type": "markdown",
   "metadata": {},
   "source": [
    "**(Optional) Q: Count number of countries that feature in both the lists \"20 countries with lowest GDP per capita\" and \"20 countries with the lowest number of hospital beds per thousand population\". Only consider countries with a population higher than 10 million while creating the list.**"
   ]
  },
  {
   "cell_type": "code",
   "execution_count": null,
   "metadata": {},
   "outputs": [],
   "source": []
  },
  {
   "cell_type": "code",
   "execution_count": null,
   "metadata": {},
   "outputs": [],
   "source": []
  },
  {
   "cell_type": "code",
   "execution_count": null,
   "metadata": {},
   "outputs": [],
   "source": []
  },
  {
   "cell_type": "code",
   "execution_count": null,
   "metadata": {},
   "outputs": [],
   "source": [
    "import jovian"
   ]
  },
  {
   "cell_type": "code",
   "execution_count": null,
   "metadata": {},
   "outputs": [],
   "source": [
    "jovian.commit(project='pandas-practice-assignment', environment=None)"
   ]
  },
  {
   "cell_type": "markdown",
   "metadata": {},
   "source": [
    "## Submission \n",
    "\n",
    "Congratulations on making it this far! You've reached the end of this assignment, and you just completed your first real-world data analysis problem. It's time to record one final version of your notebook for submission.\n",
    "\n",
    "Make a submission here by filling the submission form: https://jovian.ai/learn/data-analysis-with-python-zero-to-pandas/assignment/assignment-3-pandas-practice\n",
    "\n",
    "Also make sure to help others on the forum: https://jovian.ai/forum/t/assignment-3-pandas-practice/11225/2"
   ]
  },
  {
   "cell_type": "code",
   "execution_count": null,
   "metadata": {},
   "outputs": [],
   "source": []
  }
 ],
 "metadata": {
  "kernelspec": {
   "display_name": "Python 3 (ipykernel)",
   "language": "python",
   "name": "python3"
  },
  "language_info": {
   "codemirror_mode": {
    "name": "ipython",
    "version": 3
   },
   "file_extension": ".py",
   "mimetype": "text/x-python",
   "name": "python",
   "nbconvert_exporter": "python",
   "pygments_lexer": "ipython3",
   "version": "3.8.12"
  }
 },
 "nbformat": 4,
 "nbformat_minor": 4
}
